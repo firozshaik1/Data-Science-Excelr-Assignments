{
 "cells": [
  {
   "cell_type": "markdown",
   "id": "12534d15",
   "metadata": {},
   "source": [
    "# <font color='#ff0000'>  CLUSTERING:AIRLINES DATA"
   ]
  },
  {
   "cell_type": "markdown",
   "id": "5e0a2580",
   "metadata": {},
   "source": [
    "## <font color='#b30059'> Problem Statement"
   ]
  },
  {
   "cell_type": "markdown",
   "id": "dd6b61a0",
   "metadata": {},
   "source": [
    "## <font color='#1a53ff'> Perform clustering (hierarchical,K means clustering and DBSCAN) for the airlines data to obtain optimum number of clusters.\n",
    "##  <font color='#1a53ff'> Draw the inferences from the clusters obtained."
   ]
  },
  {
   "cell_type": "markdown",
   "id": "b31006c3",
   "metadata": {},
   "source": [
    "## <font color='#b30059'> Data Description"
   ]
  },
  {
   "cell_type": "markdown",
   "id": "bf16723b",
   "metadata": {},
   "source": [
    "The file EastWestAirlinescontains information on passengers who belong to an airline’s frequent flier program. For each passenger the data include information on their mileage history and on different ways they accrued or spent miles in the last year. The goal is to try to identify clusters of passengers that have similar characteristics for the purpose of targeting different segments for different types of mileage offers\n",
    "\n",
    "ID --Unique ID\n",
    "\n",
    "Balance--Number of miles eligible for award travel\n",
    "\n",
    "Qual_mile--Number of miles counted as qualifying for Topflight status\n",
    "\n",
    "cc1_miles -- Number of miles earned with freq. flyer credit card in the past 12 months:\n",
    "\n",
    "cc2_miles -- Number of miles earned with Rewards credit card in the past 12 months:\n",
    "\n",
    "cc3_miles -- Number of miles earned with Small Business credit card in the past 12 months:\n",
    "\n",
    "1 = under 5,000\n",
    "\n",
    "2 = 5,000 - 10,000\n",
    "\n",
    "3 = 10,001 - 25,000\n",
    "\n",
    "4 = 25,001 - 50,000\n",
    "\n",
    "5 = over 50,000\n",
    "\n",
    "Bonus_miles--Number of miles earned from non-flight bonus transactions in the past 12 months\n",
    "\n",
    "Bonus_trans--Number of non-flight bonus transactions in the past 12 months\n",
    "\n",
    "Flight_miles_12mo--Number of flight miles in the past 12 months\n",
    "\n",
    "Flight_trans_12--Number of flight transactions in the past 12 months\n",
    "\n",
    "Days_since_enrolled--Number of days since enrolled in flier program\n",
    "\n",
    "Award--whether that person had award flight (free flight) or not\n",
    "\n",
    " "
   ]
  },
  {
   "cell_type": "code",
   "execution_count": 1,
   "id": "cbe7afcd",
   "metadata": {},
   "outputs": [],
   "source": [
    "### import required libraries\n",
    "import pandas as pd\n",
    "import numpy as np\n",
    "\n",
    "import matplotlib.pyplot as plt\n",
    "import seaborn as sns\n",
    "\n",
    "from sklearn.preprocessing import power_transform\n",
    "\n",
    "import scipy.cluster.hierarchy as sch\n",
    "from sklearn.cluster import AgglomerativeClustering\n",
    "\n",
    "from sklearn.cluster import KMeans\n",
    "\n",
    "from sklearn import metrics\n",
    "\n",
    "import warnings\n",
    "warnings.filterwarnings('ignore')"
   ]
  },
  {
   "cell_type": "code",
   "execution_count": 2,
   "id": "7deee002",
   "metadata": {},
   "outputs": [
    {
     "data": {
      "text/html": [
       "<div>\n",
       "<style scoped>\n",
       "    .dataframe tbody tr th:only-of-type {\n",
       "        vertical-align: middle;\n",
       "    }\n",
       "\n",
       "    .dataframe tbody tr th {\n",
       "        vertical-align: top;\n",
       "    }\n",
       "\n",
       "    .dataframe thead th {\n",
       "        text-align: right;\n",
       "    }\n",
       "</style>\n",
       "<table border=\"1\" class=\"dataframe\">\n",
       "  <thead>\n",
       "    <tr style=\"text-align: right;\">\n",
       "      <th></th>\n",
       "      <th>ID#</th>\n",
       "      <th>Balance</th>\n",
       "      <th>Qual_miles</th>\n",
       "      <th>cc1_miles</th>\n",
       "      <th>cc2_miles</th>\n",
       "      <th>cc3_miles</th>\n",
       "      <th>Bonus_miles</th>\n",
       "      <th>Bonus_trans</th>\n",
       "      <th>Flight_miles_12mo</th>\n",
       "      <th>Flight_trans_12</th>\n",
       "      <th>Days_since_enroll</th>\n",
       "      <th>Award?</th>\n",
       "    </tr>\n",
       "  </thead>\n",
       "  <tbody>\n",
       "    <tr>\n",
       "      <th>0</th>\n",
       "      <td>1</td>\n",
       "      <td>28143</td>\n",
       "      <td>0</td>\n",
       "      <td>1</td>\n",
       "      <td>1</td>\n",
       "      <td>1</td>\n",
       "      <td>174</td>\n",
       "      <td>1</td>\n",
       "      <td>0</td>\n",
       "      <td>0</td>\n",
       "      <td>7000</td>\n",
       "      <td>0</td>\n",
       "    </tr>\n",
       "    <tr>\n",
       "      <th>1</th>\n",
       "      <td>2</td>\n",
       "      <td>19244</td>\n",
       "      <td>0</td>\n",
       "      <td>1</td>\n",
       "      <td>1</td>\n",
       "      <td>1</td>\n",
       "      <td>215</td>\n",
       "      <td>2</td>\n",
       "      <td>0</td>\n",
       "      <td>0</td>\n",
       "      <td>6968</td>\n",
       "      <td>0</td>\n",
       "    </tr>\n",
       "    <tr>\n",
       "      <th>2</th>\n",
       "      <td>3</td>\n",
       "      <td>41354</td>\n",
       "      <td>0</td>\n",
       "      <td>1</td>\n",
       "      <td>1</td>\n",
       "      <td>1</td>\n",
       "      <td>4123</td>\n",
       "      <td>4</td>\n",
       "      <td>0</td>\n",
       "      <td>0</td>\n",
       "      <td>7034</td>\n",
       "      <td>0</td>\n",
       "    </tr>\n",
       "    <tr>\n",
       "      <th>3</th>\n",
       "      <td>4</td>\n",
       "      <td>14776</td>\n",
       "      <td>0</td>\n",
       "      <td>1</td>\n",
       "      <td>1</td>\n",
       "      <td>1</td>\n",
       "      <td>500</td>\n",
       "      <td>1</td>\n",
       "      <td>0</td>\n",
       "      <td>0</td>\n",
       "      <td>6952</td>\n",
       "      <td>0</td>\n",
       "    </tr>\n",
       "    <tr>\n",
       "      <th>4</th>\n",
       "      <td>5</td>\n",
       "      <td>97752</td>\n",
       "      <td>0</td>\n",
       "      <td>4</td>\n",
       "      <td>1</td>\n",
       "      <td>1</td>\n",
       "      <td>43300</td>\n",
       "      <td>26</td>\n",
       "      <td>2077</td>\n",
       "      <td>4</td>\n",
       "      <td>6935</td>\n",
       "      <td>1</td>\n",
       "    </tr>\n",
       "  </tbody>\n",
       "</table>\n",
       "</div>"
      ],
      "text/plain": [
       "   ID#  Balance  Qual_miles  cc1_miles  cc2_miles  cc3_miles  Bonus_miles  \\\n",
       "0    1    28143           0          1          1          1          174   \n",
       "1    2    19244           0          1          1          1          215   \n",
       "2    3    41354           0          1          1          1         4123   \n",
       "3    4    14776           0          1          1          1          500   \n",
       "4    5    97752           0          4          1          1        43300   \n",
       "\n",
       "   Bonus_trans  Flight_miles_12mo  Flight_trans_12  Days_since_enroll  Award?  \n",
       "0            1                  0                0               7000       0  \n",
       "1            2                  0                0               6968       0  \n",
       "2            4                  0                0               7034       0  \n",
       "3            1                  0                0               6952       0  \n",
       "4           26               2077                4               6935       1  "
      ]
     },
     "execution_count": 2,
     "metadata": {},
     "output_type": "execute_result"
    }
   ],
   "source": [
    "airlines = pd.read_excel('EastWestAirlines.xlsx',sheet_name='data')\n",
    "airlines.head()"
   ]
  },
  {
   "cell_type": "code",
   "execution_count": 3,
   "id": "2dbf564b",
   "metadata": {},
   "outputs": [
    {
     "data": {
      "text/plain": [
       "(3999, 12)"
      ]
     },
     "execution_count": 3,
     "metadata": {},
     "output_type": "execute_result"
    }
   ],
   "source": [
    "airlines.shape"
   ]
  },
  {
   "cell_type": "code",
   "execution_count": 4,
   "id": "69174d5c",
   "metadata": {},
   "outputs": [
    {
     "data": {
      "text/plain": [
       "Index(['ID#', 'Balance', 'Qual_miles', 'cc1_miles', 'cc2_miles', 'cc3_miles',\n",
       "       'Bonus_miles', 'Bonus_trans', 'Flight_miles_12mo', 'Flight_trans_12',\n",
       "       'Days_since_enroll', 'Award?'],\n",
       "      dtype='object')"
      ]
     },
     "execution_count": 4,
     "metadata": {},
     "output_type": "execute_result"
    }
   ],
   "source": [
    "airlines.columns"
   ]
  },
  {
   "cell_type": "code",
   "execution_count": 5,
   "id": "950f11f1",
   "metadata": {},
   "outputs": [],
   "source": [
    "# Dropping the unnecessary columns from the data frame\n",
    "airlines1 = airlines.drop('ID#', axis=1)"
   ]
  },
  {
   "cell_type": "code",
   "execution_count": 6,
   "id": "84f71a3b",
   "metadata": {},
   "outputs": [
    {
     "data": {
      "text/html": [
       "<div>\n",
       "<style scoped>\n",
       "    .dataframe tbody tr th:only-of-type {\n",
       "        vertical-align: middle;\n",
       "    }\n",
       "\n",
       "    .dataframe tbody tr th {\n",
       "        vertical-align: top;\n",
       "    }\n",
       "\n",
       "    .dataframe thead th {\n",
       "        text-align: right;\n",
       "    }\n",
       "</style>\n",
       "<table border=\"1\" class=\"dataframe\">\n",
       "  <thead>\n",
       "    <tr style=\"text-align: right;\">\n",
       "      <th></th>\n",
       "      <th>Balance</th>\n",
       "      <th>Qual_miles</th>\n",
       "      <th>cc1_miles</th>\n",
       "      <th>cc2_miles</th>\n",
       "      <th>cc3_miles</th>\n",
       "      <th>Bonus_miles</th>\n",
       "      <th>Bonus_trans</th>\n",
       "      <th>Flight_miles_12mo</th>\n",
       "      <th>Flight_trans_12</th>\n",
       "      <th>Days_since_enroll</th>\n",
       "      <th>Award?</th>\n",
       "    </tr>\n",
       "  </thead>\n",
       "  <tbody>\n",
       "    <tr>\n",
       "      <th>0</th>\n",
       "      <td>28143</td>\n",
       "      <td>0</td>\n",
       "      <td>1</td>\n",
       "      <td>1</td>\n",
       "      <td>1</td>\n",
       "      <td>174</td>\n",
       "      <td>1</td>\n",
       "      <td>0</td>\n",
       "      <td>0</td>\n",
       "      <td>7000</td>\n",
       "      <td>0</td>\n",
       "    </tr>\n",
       "    <tr>\n",
       "      <th>1</th>\n",
       "      <td>19244</td>\n",
       "      <td>0</td>\n",
       "      <td>1</td>\n",
       "      <td>1</td>\n",
       "      <td>1</td>\n",
       "      <td>215</td>\n",
       "      <td>2</td>\n",
       "      <td>0</td>\n",
       "      <td>0</td>\n",
       "      <td>6968</td>\n",
       "      <td>0</td>\n",
       "    </tr>\n",
       "    <tr>\n",
       "      <th>2</th>\n",
       "      <td>41354</td>\n",
       "      <td>0</td>\n",
       "      <td>1</td>\n",
       "      <td>1</td>\n",
       "      <td>1</td>\n",
       "      <td>4123</td>\n",
       "      <td>4</td>\n",
       "      <td>0</td>\n",
       "      <td>0</td>\n",
       "      <td>7034</td>\n",
       "      <td>0</td>\n",
       "    </tr>\n",
       "    <tr>\n",
       "      <th>3</th>\n",
       "      <td>14776</td>\n",
       "      <td>0</td>\n",
       "      <td>1</td>\n",
       "      <td>1</td>\n",
       "      <td>1</td>\n",
       "      <td>500</td>\n",
       "      <td>1</td>\n",
       "      <td>0</td>\n",
       "      <td>0</td>\n",
       "      <td>6952</td>\n",
       "      <td>0</td>\n",
       "    </tr>\n",
       "    <tr>\n",
       "      <th>4</th>\n",
       "      <td>97752</td>\n",
       "      <td>0</td>\n",
       "      <td>4</td>\n",
       "      <td>1</td>\n",
       "      <td>1</td>\n",
       "      <td>43300</td>\n",
       "      <td>26</td>\n",
       "      <td>2077</td>\n",
       "      <td>4</td>\n",
       "      <td>6935</td>\n",
       "      <td>1</td>\n",
       "    </tr>\n",
       "  </tbody>\n",
       "</table>\n",
       "</div>"
      ],
      "text/plain": [
       "   Balance  Qual_miles  cc1_miles  cc2_miles  cc3_miles  Bonus_miles  \\\n",
       "0    28143           0          1          1          1          174   \n",
       "1    19244           0          1          1          1          215   \n",
       "2    41354           0          1          1          1         4123   \n",
       "3    14776           0          1          1          1          500   \n",
       "4    97752           0          4          1          1        43300   \n",
       "\n",
       "   Bonus_trans  Flight_miles_12mo  Flight_trans_12  Days_since_enroll  Award?  \n",
       "0            1                  0                0               7000       0  \n",
       "1            2                  0                0               6968       0  \n",
       "2            4                  0                0               7034       0  \n",
       "3            1                  0                0               6952       0  \n",
       "4           26               2077                4               6935       1  "
      ]
     },
     "execution_count": 6,
     "metadata": {},
     "output_type": "execute_result"
    }
   ],
   "source": [
    "airlines1.head()"
   ]
  },
  {
   "cell_type": "code",
   "execution_count": 7,
   "id": "ef577caf",
   "metadata": {},
   "outputs": [
    {
     "data": {
      "text/plain": [
       "(3999, 11)"
      ]
     },
     "execution_count": 7,
     "metadata": {},
     "output_type": "execute_result"
    }
   ],
   "source": [
    "airlines1.shape"
   ]
  },
  {
   "cell_type": "code",
   "execution_count": 8,
   "id": "e185ebfa",
   "metadata": {},
   "outputs": [
    {
     "name": "stdout",
     "output_type": "stream",
     "text": [
      "<class 'pandas.core.frame.DataFrame'>\n",
      "RangeIndex: 3999 entries, 0 to 3998\n",
      "Data columns (total 11 columns):\n",
      " #   Column             Non-Null Count  Dtype\n",
      "---  ------             --------------  -----\n",
      " 0   Balance            3999 non-null   int64\n",
      " 1   Qual_miles         3999 non-null   int64\n",
      " 2   cc1_miles          3999 non-null   int64\n",
      " 3   cc2_miles          3999 non-null   int64\n",
      " 4   cc3_miles          3999 non-null   int64\n",
      " 5   Bonus_miles        3999 non-null   int64\n",
      " 6   Bonus_trans        3999 non-null   int64\n",
      " 7   Flight_miles_12mo  3999 non-null   int64\n",
      " 8   Flight_trans_12    3999 non-null   int64\n",
      " 9   Days_since_enroll  3999 non-null   int64\n",
      " 10  Award?             3999 non-null   int64\n",
      "dtypes: int64(11)\n",
      "memory usage: 343.8 KB\n"
     ]
    }
   ],
   "source": [
    "airlines1.info()"
   ]
  },
  {
   "cell_type": "markdown",
   "id": "e85e256c",
   "metadata": {},
   "source": [
    "#### there is no null values and all are integer values"
   ]
  },
  {
   "cell_type": "code",
   "execution_count": 9,
   "id": "ed1ed5b4",
   "metadata": {},
   "outputs": [
    {
     "data": {
      "text/html": [
       "<div>\n",
       "<style scoped>\n",
       "    .dataframe tbody tr th:only-of-type {\n",
       "        vertical-align: middle;\n",
       "    }\n",
       "\n",
       "    .dataframe tbody tr th {\n",
       "        vertical-align: top;\n",
       "    }\n",
       "\n",
       "    .dataframe thead th {\n",
       "        text-align: right;\n",
       "    }\n",
       "</style>\n",
       "<table border=\"1\" class=\"dataframe\">\n",
       "  <thead>\n",
       "    <tr style=\"text-align: right;\">\n",
       "      <th></th>\n",
       "      <th>Balance</th>\n",
       "      <th>Qual_miles</th>\n",
       "      <th>cc1_miles</th>\n",
       "      <th>cc2_miles</th>\n",
       "      <th>cc3_miles</th>\n",
       "      <th>Bonus_miles</th>\n",
       "      <th>Bonus_trans</th>\n",
       "      <th>Flight_miles_12mo</th>\n",
       "      <th>Flight_trans_12</th>\n",
       "      <th>Days_since_enroll</th>\n",
       "      <th>Award?</th>\n",
       "    </tr>\n",
       "  </thead>\n",
       "  <tbody>\n",
       "    <tr>\n",
       "      <th>3370</th>\n",
       "      <td>1000</td>\n",
       "      <td>0</td>\n",
       "      <td>1</td>\n",
       "      <td>1</td>\n",
       "      <td>1</td>\n",
       "      <td>0</td>\n",
       "      <td>0</td>\n",
       "      <td>0</td>\n",
       "      <td>0</td>\n",
       "      <td>1597</td>\n",
       "      <td>0</td>\n",
       "    </tr>\n",
       "    <tr>\n",
       "      <th>3876</th>\n",
       "      <td>1000</td>\n",
       "      <td>0</td>\n",
       "      <td>1</td>\n",
       "      <td>1</td>\n",
       "      <td>1</td>\n",
       "      <td>0</td>\n",
       "      <td>0</td>\n",
       "      <td>0</td>\n",
       "      <td>0</td>\n",
       "      <td>1597</td>\n",
       "      <td>0</td>\n",
       "    </tr>\n",
       "  </tbody>\n",
       "</table>\n",
       "</div>"
      ],
      "text/plain": [
       "      Balance  Qual_miles  cc1_miles  cc2_miles  cc3_miles  Bonus_miles  \\\n",
       "3370     1000           0          1          1          1            0   \n",
       "3876     1000           0          1          1          1            0   \n",
       "\n",
       "      Bonus_trans  Flight_miles_12mo  Flight_trans_12  Days_since_enroll  \\\n",
       "3370            0                  0                0               1597   \n",
       "3876            0                  0                0               1597   \n",
       "\n",
       "      Award?  \n",
       "3370       0  \n",
       "3876       0  "
      ]
     },
     "execution_count": 9,
     "metadata": {},
     "output_type": "execute_result"
    }
   ],
   "source": [
    "#checking the duplicate values\n",
    "\n",
    "airlines1[airlines1.duplicated(keep=False)]"
   ]
  },
  {
   "cell_type": "code",
   "execution_count": 10,
   "id": "be086363",
   "metadata": {},
   "outputs": [],
   "source": [
    "airlines1= airlines1.drop_duplicates()"
   ]
  },
  {
   "cell_type": "code",
   "execution_count": 11,
   "id": "55f5f331",
   "metadata": {},
   "outputs": [
    {
     "data": {
      "text/html": [
       "<div>\n",
       "<style scoped>\n",
       "    .dataframe tbody tr th:only-of-type {\n",
       "        vertical-align: middle;\n",
       "    }\n",
       "\n",
       "    .dataframe tbody tr th {\n",
       "        vertical-align: top;\n",
       "    }\n",
       "\n",
       "    .dataframe thead th {\n",
       "        text-align: right;\n",
       "    }\n",
       "</style>\n",
       "<table border=\"1\" class=\"dataframe\">\n",
       "  <thead>\n",
       "    <tr style=\"text-align: right;\">\n",
       "      <th></th>\n",
       "      <th>Balance</th>\n",
       "      <th>Qual_miles</th>\n",
       "      <th>cc1_miles</th>\n",
       "      <th>cc2_miles</th>\n",
       "      <th>cc3_miles</th>\n",
       "      <th>Bonus_miles</th>\n",
       "      <th>Bonus_trans</th>\n",
       "      <th>Flight_miles_12mo</th>\n",
       "      <th>Flight_trans_12</th>\n",
       "      <th>Days_since_enroll</th>\n",
       "      <th>Award?</th>\n",
       "    </tr>\n",
       "  </thead>\n",
       "  <tbody>\n",
       "    <tr>\n",
       "      <th>0</th>\n",
       "      <td>28143</td>\n",
       "      <td>0</td>\n",
       "      <td>1</td>\n",
       "      <td>1</td>\n",
       "      <td>1</td>\n",
       "      <td>174</td>\n",
       "      <td>1</td>\n",
       "      <td>0</td>\n",
       "      <td>0</td>\n",
       "      <td>7000</td>\n",
       "      <td>0</td>\n",
       "    </tr>\n",
       "    <tr>\n",
       "      <th>1</th>\n",
       "      <td>19244</td>\n",
       "      <td>0</td>\n",
       "      <td>1</td>\n",
       "      <td>1</td>\n",
       "      <td>1</td>\n",
       "      <td>215</td>\n",
       "      <td>2</td>\n",
       "      <td>0</td>\n",
       "      <td>0</td>\n",
       "      <td>6968</td>\n",
       "      <td>0</td>\n",
       "    </tr>\n",
       "    <tr>\n",
       "      <th>2</th>\n",
       "      <td>41354</td>\n",
       "      <td>0</td>\n",
       "      <td>1</td>\n",
       "      <td>1</td>\n",
       "      <td>1</td>\n",
       "      <td>4123</td>\n",
       "      <td>4</td>\n",
       "      <td>0</td>\n",
       "      <td>0</td>\n",
       "      <td>7034</td>\n",
       "      <td>0</td>\n",
       "    </tr>\n",
       "    <tr>\n",
       "      <th>3</th>\n",
       "      <td>14776</td>\n",
       "      <td>0</td>\n",
       "      <td>1</td>\n",
       "      <td>1</td>\n",
       "      <td>1</td>\n",
       "      <td>500</td>\n",
       "      <td>1</td>\n",
       "      <td>0</td>\n",
       "      <td>0</td>\n",
       "      <td>6952</td>\n",
       "      <td>0</td>\n",
       "    </tr>\n",
       "    <tr>\n",
       "      <th>4</th>\n",
       "      <td>97752</td>\n",
       "      <td>0</td>\n",
       "      <td>4</td>\n",
       "      <td>1</td>\n",
       "      <td>1</td>\n",
       "      <td>43300</td>\n",
       "      <td>26</td>\n",
       "      <td>2077</td>\n",
       "      <td>4</td>\n",
       "      <td>6935</td>\n",
       "      <td>1</td>\n",
       "    </tr>\n",
       "  </tbody>\n",
       "</table>\n",
       "</div>"
      ],
      "text/plain": [
       "   Balance  Qual_miles  cc1_miles  cc2_miles  cc3_miles  Bonus_miles  \\\n",
       "0    28143           0          1          1          1          174   \n",
       "1    19244           0          1          1          1          215   \n",
       "2    41354           0          1          1          1         4123   \n",
       "3    14776           0          1          1          1          500   \n",
       "4    97752           0          4          1          1        43300   \n",
       "\n",
       "   Bonus_trans  Flight_miles_12mo  Flight_trans_12  Days_since_enroll  Award?  \n",
       "0            1                  0                0               7000       0  \n",
       "1            2                  0                0               6968       0  \n",
       "2            4                  0                0               7034       0  \n",
       "3            1                  0                0               6952       0  \n",
       "4           26               2077                4               6935       1  "
      ]
     },
     "execution_count": 11,
     "metadata": {},
     "output_type": "execute_result"
    }
   ],
   "source": [
    "airlines1.head()"
   ]
  },
  {
   "cell_type": "code",
   "execution_count": 12,
   "id": "065c6dca",
   "metadata": {},
   "outputs": [
    {
     "name": "stdout",
     "output_type": "stream",
     "text": [
      "<class 'pandas.core.frame.DataFrame'>\n",
      "Int64Index: 3998 entries, 0 to 3998\n",
      "Data columns (total 11 columns):\n",
      " #   Column             Non-Null Count  Dtype\n",
      "---  ------             --------------  -----\n",
      " 0   Balance            3998 non-null   int64\n",
      " 1   Qual_miles         3998 non-null   int64\n",
      " 2   cc1_miles          3998 non-null   int64\n",
      " 3   cc2_miles          3998 non-null   int64\n",
      " 4   cc3_miles          3998 non-null   int64\n",
      " 5   Bonus_miles        3998 non-null   int64\n",
      " 6   Bonus_trans        3998 non-null   int64\n",
      " 7   Flight_miles_12mo  3998 non-null   int64\n",
      " 8   Flight_trans_12    3998 non-null   int64\n",
      " 9   Days_since_enroll  3998 non-null   int64\n",
      " 10  Award?             3998 non-null   int64\n",
      "dtypes: int64(11)\n",
      "memory usage: 374.8 KB\n"
     ]
    }
   ],
   "source": [
    "airlines1.info()"
   ]
  },
  {
   "cell_type": "code",
   "execution_count": 13,
   "id": "5221de9a",
   "metadata": {
    "scrolled": true
   },
   "outputs": [
    {
     "data": {
      "image/png": "[encoded data removed]",
      "text/plain": [
       "<Figure size 640x480 with 1 Axes>"
      ]
     },
     "metadata": {},
     "output_type": "display_data"
    },
    {
     "data": {
      "image/png": "[encoded data removed]",
      "text/plain": [
       "<Figure size 640x480 with 1 Axes>"
      ]
     },
     "metadata": {},
     "output_type": "display_data"
    },
    {
     "data": {
      "image/png": "[encoded data removed]",
      "text/plain": [
       "<Figure size 640x480 with 1 Axes>"
      ]
     },
     "metadata": {},
     "output_type": "display_data"
    },
    {
     "data": {
      "image/png": "[encoded data removed]",
      "text/plain": [
       "<Figure size 640x480 with 1 Axes>"
      ]
     },
     "metadata": {},
     "output_type": "display_data"
    },
    {
     "data": {
      "image/png": "[encoded data removed]",
      "text/plain": [
       "<Figure size 640x480 with 1 Axes>"
      ]
     },
     "metadata": {},
     "output_type": "display_data"
    },
    {
     "data": {
      "image/png": "[encoded data removed]",
      "text/plain": [
       "<Figure size 640x480 with 1 Axes>"
      ]
     },
     "metadata": {},
     "output_type": "display_data"
    },
    {
     "data": {
      "image/png": "[encoded data removed]",
      "text/plain": [
       "<Figure size 640x480 with 1 Axes>"
      ]
     },
     "metadata": {},
     "output_type": "display_data"
    },
    {
     "data": {
      "image/png": "[encoded data removed]",
      "text/plain": [
       "<Figure size 640x480 with 1 Axes>"
      ]
     },
     "metadata": {},
     "output_type": "display_data"
    },
    {
     "data": {
      "image/png": "[encoded data removed]",
      "text/plain": [
       "<Figure size 640x480 with 1 Axes>"
      ]
     },
     "metadata": {},
     "output_type": "display_data"
    },
    {
     "data": {
      "image/png": "[encoded data removed]",
      "text/plain": [
       "<Figure size 640x480 with 1 Axes>"
      ]
     },
     "metadata": {},
     "output_type": "display_data"
    },
    {
     "data": {
      "image/png": "[encoded data removed]",
      "text/plain": [
       "<Figure size 640x480 with 1 Axes>"
      ]
     },
     "metadata": {},
     "output_type": "display_data"
    }
   ],
   "source": [
    "# Iterate over columns and plot boxplots\n",
    "for column in airlines1.columns:\n",
    "    plt.figure()  # Create a new figure for each boxplot\n",
    "    sns.boxplot(data=airlines1[column],orient='h')\n",
    "    plt.title(column)  # Set the title of the boxplot as the column name\n",
    "    plt.show()  # Display the boxplot\n"
   ]
  },
  {
   "cell_type": "markdown",
   "id": "aa00498e",
   "metadata": {},
   "source": [
    "### Standardisation using power transformation"
   ]
  },
  {
   "cell_type": "code",
   "execution_count": 14,
   "id": "629fd822",
   "metadata": {},
   "outputs": [
    {
     "data": {
      "text/plain": [
       "array([[-0.34741121, -0.24477574, -0.84493143, ..., -0.67508463,\n",
       "         1.32167124, -0.76707163],\n",
       "       [-0.63388746, -0.24477574, -0.84493143, ..., -0.67508463,\n",
       "         1.30876346, -0.76707163],\n",
       "       [-0.03895759, -0.24477574, -0.84493143, ..., -0.67508463,\n",
       "         1.33536768, -0.76707163],\n",
       "       ...,\n",
       "       [ 0.46020218, -0.24477574,  1.05824508, ..., -0.67508463,\n",
       "        -1.36569918,  1.30365921],\n",
       "       [ 0.20061397, -0.24477574, -0.84493143, ...,  1.08067199,\n",
       "        -1.36633133, -0.76707163],\n",
       "       [-1.80538742, -0.24477574, -0.84493143, ..., -0.67508463,\n",
       "        -1.36822853, -0.76707163]])"
      ]
     },
     "execution_count": 14,
     "metadata": {},
     "output_type": "execute_result"
    }
   ],
   "source": [
    "airlines2 = airlines1.copy()\n",
    "airlines2_transformed = power_transform(airlines2, method='yeo-johnson')\n",
    "airlines2_transformed"
   ]
  },
  {
   "cell_type": "code",
   "execution_count": 15,
   "id": "fd953a15",
   "metadata": {},
   "outputs": [
    {
     "data": {
      "text/html": [
       "<div>\n",
       "<style scoped>\n",
       "    .dataframe tbody tr th:only-of-type {\n",
       "        vertical-align: middle;\n",
       "    }\n",
       "\n",
       "    .dataframe tbody tr th {\n",
       "        vertical-align: top;\n",
       "    }\n",
       "\n",
       "    .dataframe thead th {\n",
       "        text-align: right;\n",
       "    }\n",
       "</style>\n",
       "<table border=\"1\" class=\"dataframe\">\n",
       "  <thead>\n",
       "    <tr style=\"text-align: right;\">\n",
       "      <th></th>\n",
       "      <th>Balance</th>\n",
       "      <th>Qual_miles</th>\n",
       "      <th>cc1_miles</th>\n",
       "      <th>cc2_miles</th>\n",
       "      <th>cc3_miles</th>\n",
       "      <th>Bonus_miles</th>\n",
       "      <th>Bonus_trans</th>\n",
       "      <th>Flight_miles_12mo</th>\n",
       "      <th>Flight_trans_12</th>\n",
       "      <th>Days_since_enroll</th>\n",
       "      <th>Award?</th>\n",
       "    </tr>\n",
       "  </thead>\n",
       "  <tbody>\n",
       "    <tr>\n",
       "      <th>0</th>\n",
       "      <td>-0.347411</td>\n",
       "      <td>-0.244776</td>\n",
       "      <td>-0.844931</td>\n",
       "      <td>-3.469447e-18</td>\n",
       "      <td>-3.469447e-18</td>\n",
       "      <td>-1.179241</td>\n",
       "      <td>-1.330354</td>\n",
       "      <td>-0.683432</td>\n",
       "      <td>-0.675085</td>\n",
       "      <td>1.321671</td>\n",
       "      <td>-0.767072</td>\n",
       "    </tr>\n",
       "    <tr>\n",
       "      <th>1</th>\n",
       "      <td>-0.633887</td>\n",
       "      <td>-0.244776</td>\n",
       "      <td>-0.844931</td>\n",
       "      <td>-3.469447e-18</td>\n",
       "      <td>-3.469447e-18</td>\n",
       "      <td>-1.133253</td>\n",
       "      <td>-1.075642</td>\n",
       "      <td>-0.683432</td>\n",
       "      <td>-0.675085</td>\n",
       "      <td>1.308763</td>\n",
       "      <td>-0.767072</td>\n",
       "    </tr>\n",
       "    <tr>\n",
       "      <th>2</th>\n",
       "      <td>-0.038958</td>\n",
       "      <td>-0.244776</td>\n",
       "      <td>-0.844931</td>\n",
       "      <td>-3.469447e-18</td>\n",
       "      <td>-3.469447e-18</td>\n",
       "      <td>-0.192576</td>\n",
       "      <td>-0.689469</td>\n",
       "      <td>-0.683432</td>\n",
       "      <td>-0.675085</td>\n",
       "      <td>1.335368</td>\n",
       "      <td>-0.767072</td>\n",
       "    </tr>\n",
       "    <tr>\n",
       "      <th>3</th>\n",
       "      <td>-0.822951</td>\n",
       "      <td>-0.244776</td>\n",
       "      <td>-0.844931</td>\n",
       "      <td>-3.469447e-18</td>\n",
       "      <td>-3.469447e-18</td>\n",
       "      <td>-0.925760</td>\n",
       "      <td>-1.330354</td>\n",
       "      <td>-0.683432</td>\n",
       "      <td>-0.675085</td>\n",
       "      <td>1.302303</td>\n",
       "      <td>-0.767072</td>\n",
       "    </tr>\n",
       "    <tr>\n",
       "      <th>4</th>\n",
       "      <td>0.723491</td>\n",
       "      <td>-0.244776</td>\n",
       "      <td>1.342966</td>\n",
       "      <td>-3.469447e-18</td>\n",
       "      <td>-3.469447e-18</td>\n",
       "      <td>1.169335</td>\n",
       "      <td>1.329679</td>\n",
       "      <td>1.548815</td>\n",
       "      <td>1.685713</td>\n",
       "      <td>1.295435</td>\n",
       "      <td>1.303659</td>\n",
       "    </tr>\n",
       "    <tr>\n",
       "      <th>...</th>\n",
       "      <td>...</td>\n",
       "      <td>...</td>\n",
       "      <td>...</td>\n",
       "      <td>...</td>\n",
       "      <td>...</td>\n",
       "      <td>...</td>\n",
       "      <td>...</td>\n",
       "      <td>...</td>\n",
       "      <td>...</td>\n",
       "      <td>...</td>\n",
       "      <td>...</td>\n",
       "    </tr>\n",
       "    <tr>\n",
       "      <th>3993</th>\n",
       "      <td>-0.663558</td>\n",
       "      <td>-0.244776</td>\n",
       "      <td>-0.844931</td>\n",
       "      <td>-3.469447e-18</td>\n",
       "      <td>-3.469447e-18</td>\n",
       "      <td>0.153302</td>\n",
       "      <td>-0.689469</td>\n",
       "      <td>1.346623</td>\n",
       "      <td>1.080672</td>\n",
       "      <td>-1.365067</td>\n",
       "      <td>1.303659</td>\n",
       "    </tr>\n",
       "    <tr>\n",
       "      <th>3994</th>\n",
       "      <td>0.340255</td>\n",
       "      <td>-0.244776</td>\n",
       "      <td>-0.844931</td>\n",
       "      <td>-3.469447e-18</td>\n",
       "      <td>-3.469447e-18</td>\n",
       "      <td>-0.728666</td>\n",
       "      <td>-0.531236</td>\n",
       "      <td>-0.683432</td>\n",
       "      <td>-0.675085</td>\n",
       "      <td>-1.370127</td>\n",
       "      <td>1.303659</td>\n",
       "    </tr>\n",
       "    <tr>\n",
       "      <th>3995</th>\n",
       "      <td>0.460202</td>\n",
       "      <td>-0.244776</td>\n",
       "      <td>1.058245</td>\n",
       "      <td>-3.469447e-18</td>\n",
       "      <td>-3.469447e-18</td>\n",
       "      <td>0.794855</td>\n",
       "      <td>-0.134776</td>\n",
       "      <td>-0.683432</td>\n",
       "      <td>-0.675085</td>\n",
       "      <td>-1.365699</td>\n",
       "      <td>1.303659</td>\n",
       "    </tr>\n",
       "    <tr>\n",
       "      <th>3996</th>\n",
       "      <td>0.200614</td>\n",
       "      <td>-0.244776</td>\n",
       "      <td>-0.844931</td>\n",
       "      <td>-3.469447e-18</td>\n",
       "      <td>-3.469447e-18</td>\n",
       "      <td>-0.925760</td>\n",
       "      <td>-1.330354</td>\n",
       "      <td>1.446163</td>\n",
       "      <td>1.080672</td>\n",
       "      <td>-1.366331</td>\n",
       "      <td>-0.767072</td>\n",
       "    </tr>\n",
       "    <tr>\n",
       "      <th>3997</th>\n",
       "      <td>-1.805387</td>\n",
       "      <td>-0.244776</td>\n",
       "      <td>-0.844931</td>\n",
       "      <td>-3.469447e-18</td>\n",
       "      <td>-3.469447e-18</td>\n",
       "      <td>-1.826995</td>\n",
       "      <td>-1.680118</td>\n",
       "      <td>-0.683432</td>\n",
       "      <td>-0.675085</td>\n",
       "      <td>-1.368229</td>\n",
       "      <td>-0.767072</td>\n",
       "    </tr>\n",
       "  </tbody>\n",
       "</table>\n",
       "<p>3998 rows × 11 columns</p>\n",
       "</div>"
      ],
      "text/plain": [
       "       Balance  Qual_miles  cc1_miles     cc2_miles     cc3_miles  \\\n",
       "0    -0.347411   -0.244776  -0.844931 -3.469447e-18 -3.469447e-18   \n",
       "1    -0.633887   -0.244776  -0.844931 -3.469447e-18 -3.469447e-18   \n",
       "2    -0.038958   -0.244776  -0.844931 -3.469447e-18 -3.469447e-18   \n",
       "3    -0.822951   -0.244776  -0.844931 -3.469447e-18 -3.469447e-18   \n",
       "4     0.723491   -0.244776   1.342966 -3.469447e-18 -3.469447e-18   \n",
       "...        ...         ...        ...           ...           ...   \n",
       "3993 -0.663558   -0.244776  -0.844931 -3.469447e-18 -3.469447e-18   \n",
       "3994  0.340255   -0.244776  -0.844931 -3.469447e-18 -3.469447e-18   \n",
       "3995  0.460202   -0.244776   1.058245 -3.469447e-18 -3.469447e-18   \n",
       "3996  0.200614   -0.244776  -0.844931 -3.469447e-18 -3.469447e-18   \n",
       "3997 -1.805387   -0.244776  -0.844931 -3.469447e-18 -3.469447e-18   \n",
       "\n",
       "      Bonus_miles  Bonus_trans  Flight_miles_12mo  Flight_trans_12  \\\n",
       "0       -1.179241    -1.330354          -0.683432        -0.675085   \n",
       "1       -1.133253    -1.075642          -0.683432        -0.675085   \n",
       "2       -0.192576    -0.689469          -0.683432        -0.675085   \n",
       "3       -0.925760    -1.330354          -0.683432        -0.675085   \n",
       "4        1.169335     1.329679           1.548815         1.685713   \n",
       "...           ...          ...                ...              ...   \n",
       "3993     0.153302    -0.689469           1.346623         1.080672   \n",
       "3994    -0.728666    -0.531236          -0.683432        -0.675085   \n",
       "3995     0.794855    -0.134776          -0.683432        -0.675085   \n",
       "3996    -0.925760    -1.330354           1.446163         1.080672   \n",
       "3997    -1.826995    -1.680118          -0.683432        -0.675085   \n",
       "\n",
       "      Days_since_enroll    Award?  \n",
       "0              1.321671 -0.767072  \n",
       "1              1.308763 -0.767072  \n",
       "2              1.335368 -0.767072  \n",
       "3              1.302303 -0.767072  \n",
       "4              1.295435  1.303659  \n",
       "...                 ...       ...  \n",
       "3993          -1.365067  1.303659  \n",
       "3994          -1.370127  1.303659  \n",
       "3995          -1.365699  1.303659  \n",
       "3996          -1.366331 -0.767072  \n",
       "3997          -1.368229 -0.767072  \n",
       "\n",
       "[3998 rows x 11 columns]"
      ]
     },
     "execution_count": 15,
     "metadata": {},
     "output_type": "execute_result"
    }
   ],
   "source": [
    "airlines2=pd.DataFrame(airlines2_transformed,columns=airlines1.columns) \n",
    "airlines2"
   ]
  },
  {
   "cell_type": "markdown",
   "id": "639178d6",
   "metadata": {},
   "source": [
    "### Checking the normal distribution of the data, after Power transformation"
   ]
  },
  {
   "cell_type": "code",
   "execution_count": 16,
   "id": "23ba0b7f",
   "metadata": {},
   "outputs": [
    {
     "data": {
      "image/png": "[encoded data removed]",
      "text/plain": [
       "<Figure size 1500x700 with 12 Axes>"
      ]
     },
     "metadata": {},
     "output_type": "display_data"
    }
   ],
   "source": [
    "fig, ax = plt.subplots(4, 3, figsize=(15,7))\n",
    "sns.distplot(airlines2.Balance, ax=ax[0,0],color='magenta')\n",
    "sns.distplot(airlines2.Qual_miles, ax=ax[0,1],color='magenta')\n",
    "sns.distplot(airlines2.cc1_miles, ax=ax[0,2],color='salmon')\n",
    "sns.distplot(airlines2.cc2_miles, ax=ax[1,0],color='magenta')\n",
    "sns.distplot(airlines2.cc3_miles, ax=ax[1,1],color='salmon')\n",
    "sns.distplot(airlines2.Bonus_miles, ax=ax[1,2],color='magenta')\n",
    "sns.distplot(airlines2.Bonus_trans, ax=ax[2,0],color='salmon')\n",
    "sns.distplot(airlines2.Flight_miles_12mo, ax=ax[2,1],color='magenta')\n",
    "sns.distplot(airlines2.Flight_trans_12, ax=ax[2,2],color='salmon')\n",
    "sns.distplot(airlines2.Days_since_enroll, ax=ax[3,0],color='magenta')\n",
    "sns.distplot(airlines2[\"Award?\"] , ax=ax[3,1],color='salmon')\n",
    "plt.tight_layout()\n",
    "plt.show()"
   ]
  },
  {
   "cell_type": "markdown",
   "id": "39fff5c3",
   "metadata": {},
   "source": [
    "## Hierarchical clustering methods"
   ]
  },
  {
   "cell_type": "markdown",
   "id": "9cd2aaef",
   "metadata": {},
   "source": [
    "### Average linkage method"
   ]
  },
  {
   "cell_type": "code",
   "execution_count": 17,
   "id": "64a67476",
   "metadata": {},
   "outputs": [
    {
     "data": {
      "text/plain": [
       "Text(0.5, 1.0, 'Dendogram')"
      ]
     },
     "execution_count": 17,
     "metadata": {},
     "output_type": "execute_result"
    },
    {
     "data": {
      "image/png": "[encoded data removed]",
      "text/plain": [
       "<Figure size 1600x1000 with 1 Axes>"
      ]
     },
     "metadata": {},
     "output_type": "display_data"
    }
   ],
   "source": [
    "fig=plt.figure(figsize=(16,10))\n",
    "dendrogram = sch.dendrogram(sch.linkage(airlines2_transformed, method='average'))\n",
    "plt.title(\"Dendogram\",size=15)"
   ]
  },
  {
   "cell_type": "code",
   "execution_count": 18,
   "id": "2a5c8ad7",
   "metadata": {},
   "outputs": [],
   "source": [
    "hc1 = AgglomerativeClustering(n_clusters=5, affinity = 'euclidean', linkage = 'average')"
   ]
  },
  {
   "cell_type": "markdown",
   "id": "11775d39",
   "metadata": {},
   "source": [
    "### Model fitting"
   ]
  },
  {
   "cell_type": "code",
   "execution_count": 19,
   "id": "7c06456e",
   "metadata": {},
   "outputs": [],
   "source": [
    "y_hc1 = hc1.fit_predict(airlines2_transformed)\n",
    "Clusters=pd.DataFrame(y_hc1,columns=['Clusters'])"
   ]
  },
  {
   "cell_type": "code",
   "execution_count": 20,
   "id": "04559328",
   "metadata": {},
   "outputs": [],
   "source": [
    "# Creating a new column\n",
    "airlines1['cluster'] = y_hc1"
   ]
  },
  {
   "cell_type": "code",
   "execution_count": 21,
   "id": "6ff224fb",
   "metadata": {},
   "outputs": [
    {
     "data": {
      "text/html": [
       "<div>\n",
       "<style scoped>\n",
       "    .dataframe tbody tr th:only-of-type {\n",
       "        vertical-align: middle;\n",
       "    }\n",
       "\n",
       "    .dataframe tbody tr th {\n",
       "        vertical-align: top;\n",
       "    }\n",
       "\n",
       "    .dataframe thead tr th {\n",
       "        text-align: left;\n",
       "    }\n",
       "</style>\n",
       "<table border=\"1\" class=\"dataframe\">\n",
       "  <thead>\n",
       "    <tr>\n",
       "      <th></th>\n",
       "      <th>cluster</th>\n",
       "      <th>Balance</th>\n",
       "      <th>Qual_miles</th>\n",
       "      <th>cc1_miles</th>\n",
       "      <th>cc2_miles</th>\n",
       "      <th>cc3_miles</th>\n",
       "      <th>Bonus_miles</th>\n",
       "      <th>Bonus_trans</th>\n",
       "      <th>Flight_miles_12mo</th>\n",
       "      <th>Flight_trans_12</th>\n",
       "      <th>Days_since_enroll</th>\n",
       "      <th>Award?</th>\n",
       "    </tr>\n",
       "    <tr>\n",
       "      <th></th>\n",
       "      <th></th>\n",
       "      <th>mean</th>\n",
       "      <th>mean</th>\n",
       "      <th>mean</th>\n",
       "      <th>mean</th>\n",
       "      <th>mean</th>\n",
       "      <th>mean</th>\n",
       "      <th>mean</th>\n",
       "      <th>mean</th>\n",
       "      <th>mean</th>\n",
       "      <th>mean</th>\n",
       "      <th>mean</th>\n",
       "    </tr>\n",
       "  </thead>\n",
       "  <tbody>\n",
       "    <tr>\n",
       "      <th>0</th>\n",
       "      <td>0</td>\n",
       "      <td>170339.198675</td>\n",
       "      <td>2508.019868</td>\n",
       "      <td>2.278146</td>\n",
       "      <td>1.013245</td>\n",
       "      <td>1.013245</td>\n",
       "      <td>28717.337748</td>\n",
       "      <td>18.344371</td>\n",
       "      <td>2574.390728</td>\n",
       "      <td>7.768212</td>\n",
       "      <td>4478.728477</td>\n",
       "      <td>0.768212</td>\n",
       "    </tr>\n",
       "    <tr>\n",
       "      <th>1</th>\n",
       "      <td>1</td>\n",
       "      <td>104075.087266</td>\n",
       "      <td>0.000000</td>\n",
       "      <td>2.290294</td>\n",
       "      <td>1.017809</td>\n",
       "      <td>1.016919</td>\n",
       "      <td>23897.578807</td>\n",
       "      <td>15.159394</td>\n",
       "      <td>1291.878896</td>\n",
       "      <td>3.845058</td>\n",
       "      <td>4368.430098</td>\n",
       "      <td>0.547640</td>\n",
       "    </tr>\n",
       "    <tr>\n",
       "      <th>2</th>\n",
       "      <td>2</td>\n",
       "      <td>125.000000</td>\n",
       "      <td>0.000000</td>\n",
       "      <td>1.000000</td>\n",
       "      <td>1.000000</td>\n",
       "      <td>1.000000</td>\n",
       "      <td>125.000000</td>\n",
       "      <td>1.000000</td>\n",
       "      <td>125.000000</td>\n",
       "      <td>1.000000</td>\n",
       "      <td>5163.500000</td>\n",
       "      <td>0.000000</td>\n",
       "    </tr>\n",
       "    <tr>\n",
       "      <th>3</th>\n",
       "      <td>3</td>\n",
       "      <td>57973.546667</td>\n",
       "      <td>2634.706667</td>\n",
       "      <td>2.000000</td>\n",
       "      <td>1.000000</td>\n",
       "      <td>1.000000</td>\n",
       "      <td>15002.626667</td>\n",
       "      <td>10.026667</td>\n",
       "      <td>0.000000</td>\n",
       "      <td>0.000000</td>\n",
       "      <td>4111.026667</td>\n",
       "      <td>0.400000</td>\n",
       "    </tr>\n",
       "    <tr>\n",
       "      <th>4</th>\n",
       "      <td>4</td>\n",
       "      <td>55679.977711</td>\n",
       "      <td>0.000000</td>\n",
       "      <td>1.952021</td>\n",
       "      <td>1.013600</td>\n",
       "      <td>1.010578</td>\n",
       "      <td>13699.846619</td>\n",
       "      <td>9.765017</td>\n",
       "      <td>0.000000</td>\n",
       "      <td>0.000000</td>\n",
       "      <td>3992.381186</td>\n",
       "      <td>0.272006</td>\n",
       "    </tr>\n",
       "  </tbody>\n",
       "</table>\n",
       "</div>"
      ],
      "text/plain": [
       "  cluster        Balance   Qual_miles cc1_miles cc2_miles cc3_miles  \\\n",
       "                    mean         mean      mean      mean      mean   \n",
       "0       0  170339.198675  2508.019868  2.278146  1.013245  1.013245   \n",
       "1       1  104075.087266     0.000000  2.290294  1.017809  1.016919   \n",
       "2       2     125.000000     0.000000  1.000000  1.000000  1.000000   \n",
       "3       3   57973.546667  2634.706667  2.000000  1.000000  1.000000   \n",
       "4       4   55679.977711     0.000000  1.952021  1.013600  1.010578   \n",
       "\n",
       "    Bonus_miles Bonus_trans Flight_miles_12mo Flight_trans_12  \\\n",
       "           mean        mean              mean            mean   \n",
       "0  28717.337748   18.344371       2574.390728        7.768212   \n",
       "1  23897.578807   15.159394       1291.878896        3.845058   \n",
       "2    125.000000    1.000000        125.000000        1.000000   \n",
       "3  15002.626667   10.026667          0.000000        0.000000   \n",
       "4  13699.846619    9.765017          0.000000        0.000000   \n",
       "\n",
       "  Days_since_enroll    Award?  \n",
       "               mean      mean  \n",
       "0       4478.728477  0.768212  \n",
       "1       4368.430098  0.547640  \n",
       "2       5163.500000  0.000000  \n",
       "3       4111.026667  0.400000  \n",
       "4       3992.381186  0.272006  "
      ]
     },
     "execution_count": 21,
     "metadata": {},
     "output_type": "execute_result"
    }
   ],
   "source": [
    "airlines1.groupby('cluster').agg(['mean']).reset_index()"
   ]
  },
  {
   "cell_type": "markdown",
   "id": "431eee4a",
   "metadata": {},
   "source": [
    "### Checking the no.of elements in each cluster"
   ]
  },
  {
   "cell_type": "code",
   "execution_count": 22,
   "id": "76f08af8",
   "metadata": {},
   "outputs": [
    {
     "data": {
      "text/plain": [
       "Index(['Balance', 'Qual_miles', 'cc1_miles', 'cc2_miles', 'cc3_miles',\n",
       "       'Bonus_miles', 'Bonus_trans', 'Flight_miles_12mo', 'Flight_trans_12',\n",
       "       'Days_since_enroll', 'Award?', 'cluster'],\n",
       "      dtype='object')"
      ]
     },
     "execution_count": 22,
     "metadata": {},
     "output_type": "execute_result"
    }
   ],
   "source": [
    "airlines1.columns"
   ]
  },
  {
   "cell_type": "code",
   "execution_count": 23,
   "id": "30bc38b0",
   "metadata": {},
   "outputs": [
    {
     "name": "stdout",
     "output_type": "stream",
     "text": [
      "cluster 0\n",
      "Total Members: 151\n",
      "\n",
      "cluster 1\n",
      "Total Members: 1123\n",
      "\n",
      "cluster 2\n",
      "Total Members: 2\n",
      "\n",
      "cluster 3\n",
      "Total Members: 75\n",
      "\n",
      "cluster 4\n",
      "Total Members: 2647\n",
      "\n"
     ]
    }
   ],
   "source": [
    "for i in range(5):\n",
    "    print(\"cluster\", i)\n",
    "    print(\"Total Members:\", len(list(airlines1[airlines1['cluster'] == i].values)))\n",
    "    print()"
   ]
  },
  {
   "cell_type": "markdown",
   "id": "967675c0",
   "metadata": {},
   "source": [
    "### Centroid(ward) linkage method"
   ]
  },
  {
   "cell_type": "code",
   "execution_count": 24,
   "id": "b09c1172",
   "metadata": {},
   "outputs": [
    {
     "data": {
      "text/plain": [
       "Text(0.5, 1.0, 'Dendogram')"
      ]
     },
     "execution_count": 24,
     "metadata": {},
     "output_type": "execute_result"
    },
    {
     "data": {
      "image/png": "[encoded data removed]",
      "text/plain": [
       "<Figure size 1600x1000 with 1 Axes>"
      ]
     },
     "metadata": {},
     "output_type": "display_data"
    }
   ],
   "source": [
    "fig=plt.figure(figsize=(16,10))\n",
    "dendrogram = sch.dendrogram(sch.linkage(airlines2_transformed, method='ward'),above_threshold_color='y')\n",
    "plt.title(\"Dendogram\",size=15)"
   ]
  },
  {
   "cell_type": "code",
   "execution_count": 25,
   "id": "27442877",
   "metadata": {},
   "outputs": [],
   "source": [
    "# Creating Cluster using centroid linkage method\n",
    "hc2 = AgglomerativeClustering(n_clusters=5, affinity = 'euclidean', linkage = 'ward')"
   ]
  },
  {
   "cell_type": "markdown",
   "id": "7f4ba941",
   "metadata": {},
   "source": [
    "### Model fitting"
   ]
  },
  {
   "cell_type": "code",
   "execution_count": 26,
   "id": "42e2cd90",
   "metadata": {},
   "outputs": [],
   "source": [
    "y_hc2 = hc2.fit_predict(airlines2_transformed)\n",
    "Clusters=pd.DataFrame(y_hc2,columns=['Clusters'])"
   ]
  },
  {
   "cell_type": "code",
   "execution_count": 27,
   "id": "e2970c21",
   "metadata": {},
   "outputs": [],
   "source": [
    "airlines1['cluster'] = y_hc2"
   ]
  },
  {
   "cell_type": "code",
   "execution_count": 28,
   "id": "ed219615",
   "metadata": {},
   "outputs": [
    {
     "data": {
      "text/html": [
       "<div>\n",
       "<style scoped>\n",
       "    .dataframe tbody tr th:only-of-type {\n",
       "        vertical-align: middle;\n",
       "    }\n",
       "\n",
       "    .dataframe tbody tr th {\n",
       "        vertical-align: top;\n",
       "    }\n",
       "\n",
       "    .dataframe thead tr th {\n",
       "        text-align: left;\n",
       "    }\n",
       "</style>\n",
       "<table border=\"1\" class=\"dataframe\">\n",
       "  <thead>\n",
       "    <tr>\n",
       "      <th></th>\n",
       "      <th>cluster</th>\n",
       "      <th>Balance</th>\n",
       "      <th>Qual_miles</th>\n",
       "      <th>cc1_miles</th>\n",
       "      <th>cc2_miles</th>\n",
       "      <th>cc3_miles</th>\n",
       "      <th>Bonus_miles</th>\n",
       "      <th>Bonus_trans</th>\n",
       "      <th>Flight_miles_12mo</th>\n",
       "      <th>Flight_trans_12</th>\n",
       "      <th>Days_since_enroll</th>\n",
       "      <th>Award?</th>\n",
       "    </tr>\n",
       "    <tr>\n",
       "      <th></th>\n",
       "      <th></th>\n",
       "      <th>mean</th>\n",
       "      <th>mean</th>\n",
       "      <th>mean</th>\n",
       "      <th>mean</th>\n",
       "      <th>mean</th>\n",
       "      <th>mean</th>\n",
       "      <th>mean</th>\n",
       "      <th>mean</th>\n",
       "      <th>mean</th>\n",
       "      <th>mean</th>\n",
       "      <th>mean</th>\n",
       "    </tr>\n",
       "  </thead>\n",
       "  <tbody>\n",
       "    <tr>\n",
       "      <th>0</th>\n",
       "      <td>0</td>\n",
       "      <td>33440.261175</td>\n",
       "      <td>0.000000</td>\n",
       "      <td>1.000000</td>\n",
       "      <td>1.022350</td>\n",
       "      <td>1.005109</td>\n",
       "      <td>2839.505109</td>\n",
       "      <td>5.467433</td>\n",
       "      <td>0.000000</td>\n",
       "      <td>0.000000</td>\n",
       "      <td>3632.566411</td>\n",
       "      <td>0.151980</td>\n",
       "    </tr>\n",
       "    <tr>\n",
       "      <th>1</th>\n",
       "      <td>1</td>\n",
       "      <td>77788.952703</td>\n",
       "      <td>0.000000</td>\n",
       "      <td>1.000000</td>\n",
       "      <td>1.030405</td>\n",
       "      <td>1.000000</td>\n",
       "      <td>6038.932432</td>\n",
       "      <td>8.885135</td>\n",
       "      <td>1403.608108</td>\n",
       "      <td>4.155405</td>\n",
       "      <td>3981.564189</td>\n",
       "      <td>0.429054</td>\n",
       "    </tr>\n",
       "    <tr>\n",
       "      <th>2</th>\n",
       "      <td>2</td>\n",
       "      <td>87897.735430</td>\n",
       "      <td>0.000000</td>\n",
       "      <td>3.331175</td>\n",
       "      <td>1.000925</td>\n",
       "      <td>1.018501</td>\n",
       "      <td>29432.774283</td>\n",
       "      <td>15.990749</td>\n",
       "      <td>0.000000</td>\n",
       "      <td>0.000000</td>\n",
       "      <td>4513.629972</td>\n",
       "      <td>0.445883</td>\n",
       "    </tr>\n",
       "    <tr>\n",
       "      <th>3</th>\n",
       "      <td>3</td>\n",
       "      <td>133049.712389</td>\n",
       "      <td>2550.061947</td>\n",
       "      <td>2.185841</td>\n",
       "      <td>1.008850</td>\n",
       "      <td>1.008850</td>\n",
       "      <td>24165.995575</td>\n",
       "      <td>15.584071</td>\n",
       "      <td>1720.057522</td>\n",
       "      <td>5.190265</td>\n",
       "      <td>4356.703540</td>\n",
       "      <td>0.646018</td>\n",
       "    </tr>\n",
       "    <tr>\n",
       "      <th>4</th>\n",
       "      <td>4</td>\n",
       "      <td>132880.887430</td>\n",
       "      <td>0.000000</td>\n",
       "      <td>3.718574</td>\n",
       "      <td>1.003752</td>\n",
       "      <td>1.035647</td>\n",
       "      <td>43643.870544</td>\n",
       "      <td>22.075047</td>\n",
       "      <td>1163.403377</td>\n",
       "      <td>3.489681</td>\n",
       "      <td>4801.103189</td>\n",
       "      <td>0.677298</td>\n",
       "    </tr>\n",
       "  </tbody>\n",
       "</table>\n",
       "</div>"
      ],
      "text/plain": [
       "  cluster        Balance   Qual_miles cc1_miles cc2_miles cc3_miles  \\\n",
       "                    mean         mean      mean      mean      mean   \n",
       "0       0   33440.261175     0.000000  1.000000  1.022350  1.005109   \n",
       "1       1   77788.952703     0.000000  1.000000  1.030405  1.000000   \n",
       "2       2   87897.735430     0.000000  3.331175  1.000925  1.018501   \n",
       "3       3  133049.712389  2550.061947  2.185841  1.008850  1.008850   \n",
       "4       4  132880.887430     0.000000  3.718574  1.003752  1.035647   \n",
       "\n",
       "    Bonus_miles Bonus_trans Flight_miles_12mo Flight_trans_12  \\\n",
       "           mean        mean              mean            mean   \n",
       "0   2839.505109    5.467433          0.000000        0.000000   \n",
       "1   6038.932432    8.885135       1403.608108        4.155405   \n",
       "2  29432.774283   15.990749          0.000000        0.000000   \n",
       "3  24165.995575   15.584071       1720.057522        5.190265   \n",
       "4  43643.870544   22.075047       1163.403377        3.489681   \n",
       "\n",
       "  Days_since_enroll    Award?  \n",
       "               mean      mean  \n",
       "0       3632.566411  0.151980  \n",
       "1       3981.564189  0.429054  \n",
       "2       4513.629972  0.445883  \n",
       "3       4356.703540  0.646018  \n",
       "4       4801.103189  0.677298  "
      ]
     },
     "execution_count": 28,
     "metadata": {},
     "output_type": "execute_result"
    }
   ],
   "source": [
    "airlines1.groupby('cluster').agg(['mean']).reset_index()"
   ]
  },
  {
   "cell_type": "markdown",
   "id": "82926a78",
   "metadata": {},
   "source": [
    "### Viewing how many categories are included in each cluster"
   ]
  },
  {
   "cell_type": "code",
   "execution_count": 29,
   "id": "6ffefd73",
   "metadata": {},
   "outputs": [
    {
     "name": "stdout",
     "output_type": "stream",
     "text": [
      "cluster 0\n",
      "Total Members: 1566\n",
      "\n",
      "cluster 1\n",
      "Total Members: 592\n",
      "\n",
      "cluster 2\n",
      "Total Members: 1081\n",
      "\n",
      "cluster 3\n",
      "Total Members: 226\n",
      "\n",
      "cluster 4\n",
      "Total Members: 533\n",
      "\n"
     ]
    }
   ],
   "source": [
    "# Checking how many categories are included in each cluster \n",
    "for i in range(5):\n",
    "    print(\"cluster\", i)\n",
    "    print(\"Total Members:\", len(list(airlines1[airlines1['cluster'] == i].values)))\n",
    "    print()"
   ]
  },
  {
   "cell_type": "markdown",
   "id": "e28bd623",
   "metadata": {},
   "source": [
    "### Complete linkage method"
   ]
  },
  {
   "cell_type": "code",
   "execution_count": 30,
   "id": "145c86ce",
   "metadata": {},
   "outputs": [
    {
     "data": {
      "text/plain": [
       "Text(0.5, 1.0, 'Dendogram')"
      ]
     },
     "execution_count": 30,
     "metadata": {},
     "output_type": "execute_result"
    },
    {
     "data": {
      "image/png": "[encoded data removed]",
      "text/plain": [
       "<Figure size 1600x1000 with 1 Axes>"
      ]
     },
     "metadata": {},
     "output_type": "display_data"
    }
   ],
   "source": [
    "fig=plt.figure(figsize=(16,10))\n",
    "dendrogram = sch.dendrogram(sch.linkage(airlines2_transformed, method='complete'))\n",
    "plt.title(\"Dendogram\",size=15)"
   ]
  },
  {
   "cell_type": "code",
   "execution_count": 31,
   "id": "fbb0dc67",
   "metadata": {},
   "outputs": [],
   "source": [
    "# Creatig Cluster using complete linkage method\n",
    "hc3 = AgglomerativeClustering(n_clusters=5, affinity = 'euclidean', linkage = 'complete')"
   ]
  },
  {
   "cell_type": "code",
   "execution_count": 32,
   "id": "750a2780",
   "metadata": {},
   "outputs": [],
   "source": [
    "y_hc3 = hc3.fit_predict(airlines2_transformed)\n",
    "Clusters=pd.DataFrame(y_hc3,columns=['Clusters'])"
   ]
  },
  {
   "cell_type": "code",
   "execution_count": 33,
   "id": "92b8cc60",
   "metadata": {},
   "outputs": [
    {
     "data": {
      "text/html": [
       "<div>\n",
       "<style scoped>\n",
       "    .dataframe tbody tr th:only-of-type {\n",
       "        vertical-align: middle;\n",
       "    }\n",
       "\n",
       "    .dataframe tbody tr th {\n",
       "        vertical-align: top;\n",
       "    }\n",
       "\n",
       "    .dataframe thead tr th {\n",
       "        text-align: left;\n",
       "    }\n",
       "</style>\n",
       "<table border=\"1\" class=\"dataframe\">\n",
       "  <thead>\n",
       "    <tr>\n",
       "      <th></th>\n",
       "      <th>cluster</th>\n",
       "      <th>Balance</th>\n",
       "      <th>Qual_miles</th>\n",
       "      <th>cc1_miles</th>\n",
       "      <th>cc2_miles</th>\n",
       "      <th>cc3_miles</th>\n",
       "      <th>Bonus_miles</th>\n",
       "      <th>Bonus_trans</th>\n",
       "      <th>Flight_miles_12mo</th>\n",
       "      <th>Flight_trans_12</th>\n",
       "      <th>Days_since_enroll</th>\n",
       "      <th>Award?</th>\n",
       "    </tr>\n",
       "    <tr>\n",
       "      <th></th>\n",
       "      <th></th>\n",
       "      <th>mean</th>\n",
       "      <th>mean</th>\n",
       "      <th>mean</th>\n",
       "      <th>mean</th>\n",
       "      <th>mean</th>\n",
       "      <th>mean</th>\n",
       "      <th>mean</th>\n",
       "      <th>mean</th>\n",
       "      <th>mean</th>\n",
       "      <th>mean</th>\n",
       "      <th>mean</th>\n",
       "    </tr>\n",
       "  </thead>\n",
       "  <tbody>\n",
       "    <tr>\n",
       "      <th>0</th>\n",
       "      <td>0</td>\n",
       "      <td>145838.029218</td>\n",
       "      <td>0.000000</td>\n",
       "      <td>3.541942</td>\n",
       "      <td>1.004713</td>\n",
       "      <td>1.032045</td>\n",
       "      <td>39928.083883</td>\n",
       "      <td>19.713478</td>\n",
       "      <td>809.139491</td>\n",
       "      <td>2.377003</td>\n",
       "      <td>5095.663525</td>\n",
       "      <td>0.553252</td>\n",
       "    </tr>\n",
       "    <tr>\n",
       "      <th>1</th>\n",
       "      <td>1</td>\n",
       "      <td>39247.977700</td>\n",
       "      <td>0.000000</td>\n",
       "      <td>1.506340</td>\n",
       "      <td>1.016616</td>\n",
       "      <td>1.005684</td>\n",
       "      <td>7510.160909</td>\n",
       "      <td>7.914298</td>\n",
       "      <td>53.188019</td>\n",
       "      <td>0.161784</td>\n",
       "      <td>3832.701355</td>\n",
       "      <td>0.220813</td>\n",
       "    </tr>\n",
       "    <tr>\n",
       "      <th>2</th>\n",
       "      <td>2</td>\n",
       "      <td>46620.754717</td>\n",
       "      <td>0.000000</td>\n",
       "      <td>1.268868</td>\n",
       "      <td>1.030660</td>\n",
       "      <td>1.000000</td>\n",
       "      <td>8399.268868</td>\n",
       "      <td>9.099057</td>\n",
       "      <td>1110.594340</td>\n",
       "      <td>3.367925</td>\n",
       "      <td>3094.386792</td>\n",
       "      <td>0.573113</td>\n",
       "    </tr>\n",
       "    <tr>\n",
       "      <th>3</th>\n",
       "      <td>3</td>\n",
       "      <td>46202.320755</td>\n",
       "      <td>2805.528302</td>\n",
       "      <td>1.000000</td>\n",
       "      <td>1.000000</td>\n",
       "      <td>1.000000</td>\n",
       "      <td>2909.528302</td>\n",
       "      <td>3.962264</td>\n",
       "      <td>188.245283</td>\n",
       "      <td>0.566038</td>\n",
       "      <td>3446.471698</td>\n",
       "      <td>0.264151</td>\n",
       "    </tr>\n",
       "    <tr>\n",
       "      <th>4</th>\n",
       "      <td>4</td>\n",
       "      <td>159656.138728</td>\n",
       "      <td>2471.797688</td>\n",
       "      <td>2.549133</td>\n",
       "      <td>1.011561</td>\n",
       "      <td>1.011561</td>\n",
       "      <td>30678.092486</td>\n",
       "      <td>19.144509</td>\n",
       "      <td>2189.341040</td>\n",
       "      <td>6.606936</td>\n",
       "      <td>4635.560694</td>\n",
       "      <td>0.763006</td>\n",
       "    </tr>\n",
       "  </tbody>\n",
       "</table>\n",
       "</div>"
      ],
      "text/plain": [
       "  cluster        Balance   Qual_miles cc1_miles cc2_miles cc3_miles  \\\n",
       "                    mean         mean      mean      mean      mean   \n",
       "0       0  145838.029218     0.000000  3.541942  1.004713  1.032045   \n",
       "1       1   39247.977700     0.000000  1.506340  1.016616  1.005684   \n",
       "2       2   46620.754717     0.000000  1.268868  1.030660  1.000000   \n",
       "3       3   46202.320755  2805.528302  1.000000  1.000000  1.000000   \n",
       "4       4  159656.138728  2471.797688  2.549133  1.011561  1.011561   \n",
       "\n",
       "    Bonus_miles Bonus_trans Flight_miles_12mo Flight_trans_12  \\\n",
       "           mean        mean              mean            mean   \n",
       "0  39928.083883   19.713478        809.139491        2.377003   \n",
       "1   7510.160909    7.914298         53.188019        0.161784   \n",
       "2   8399.268868    9.099057       1110.594340        3.367925   \n",
       "3   2909.528302    3.962264        188.245283        0.566038   \n",
       "4  30678.092486   19.144509       2189.341040        6.606936   \n",
       "\n",
       "  Days_since_enroll    Award?  \n",
       "               mean      mean  \n",
       "0       5095.663525  0.553252  \n",
       "1       3832.701355  0.220813  \n",
       "2       3094.386792  0.573113  \n",
       "3       3446.471698  0.264151  \n",
       "4       4635.560694  0.763006  "
      ]
     },
     "execution_count": 33,
     "metadata": {},
     "output_type": "execute_result"
    }
   ],
   "source": [
    "airlines1['cluster'] = y_hc3\n",
    "airlines1.groupby('cluster').agg(['mean']).reset_index()"
   ]
  },
  {
   "cell_type": "markdown",
   "id": "9696c7d8",
   "metadata": {},
   "source": [
    "### Checking how many categories are included in each cluster"
   ]
  },
  {
   "cell_type": "code",
   "execution_count": 34,
   "id": "71f72215",
   "metadata": {},
   "outputs": [
    {
     "name": "stdout",
     "output_type": "stream",
     "text": [
      "cluster 0\n",
      "Total Members: 1061\n",
      "\n",
      "cluster 1\n",
      "Total Members: 2287\n",
      "\n",
      "cluster 2\n",
      "Total Members: 424\n",
      "\n",
      "cluster 3\n",
      "Total Members: 53\n",
      "\n",
      "cluster 4\n",
      "Total Members: 173\n",
      "\n"
     ]
    }
   ],
   "source": [
    "for i in range(5):\n",
    "    print(\"cluster\", i)\n",
    "    print(\"Total Members:\", len(list(airlines1[airlines1['cluster'] == i].values)))\n",
    "    print()"
   ]
  },
  {
   "cell_type": "markdown",
   "id": "0d6899aa",
   "metadata": {},
   "source": [
    "### Single linkage method"
   ]
  },
  {
   "cell_type": "code",
   "execution_count": 35,
   "id": "925122f5",
   "metadata": {},
   "outputs": [
    {
     "data": {
      "text/plain": [
       "Text(0.5, 1.0, 'Dendogram')"
      ]
     },
     "execution_count": 35,
     "metadata": {},
     "output_type": "execute_result"
    },
    {
     "data": {
      "image/png": "[encoded data removed]",
      "text/plain": [
       "<Figure size 1600x1000 with 1 Axes>"
      ]
     },
     "metadata": {},
     "output_type": "display_data"
    }
   ],
   "source": [
    "fig=plt.figure(figsize=(16,10))\n",
    "dendrogram = sch.dendrogram(sch.linkage(airlines2_transformed, method='single'))\n",
    "plt.title(\"Dendogram\",size=15)"
   ]
  },
  {
   "cell_type": "markdown",
   "id": "01d8a835",
   "metadata": {},
   "source": [
    "### Creating a Cluster using single linkage method, fitting the data on the model and creating a new cluster column with cluster labels"
   ]
  },
  {
   "cell_type": "code",
   "execution_count": 36,
   "id": "dff5e899",
   "metadata": {},
   "outputs": [
    {
     "data": {
      "text/html": [
       "<div>\n",
       "<style scoped>\n",
       "    .dataframe tbody tr th:only-of-type {\n",
       "        vertical-align: middle;\n",
       "    }\n",
       "\n",
       "    .dataframe tbody tr th {\n",
       "        vertical-align: top;\n",
       "    }\n",
       "\n",
       "    .dataframe thead tr th {\n",
       "        text-align: left;\n",
       "    }\n",
       "</style>\n",
       "<table border=\"1\" class=\"dataframe\">\n",
       "  <thead>\n",
       "    <tr>\n",
       "      <th></th>\n",
       "      <th>cluster</th>\n",
       "      <th>Balance</th>\n",
       "      <th>Qual_miles</th>\n",
       "      <th>cc1_miles</th>\n",
       "      <th>cc2_miles</th>\n",
       "      <th>cc3_miles</th>\n",
       "      <th>Bonus_miles</th>\n",
       "      <th>Bonus_trans</th>\n",
       "      <th>Flight_miles_12mo</th>\n",
       "      <th>Flight_trans_12</th>\n",
       "      <th>Days_since_enroll</th>\n",
       "      <th>Award?</th>\n",
       "    </tr>\n",
       "    <tr>\n",
       "      <th></th>\n",
       "      <th></th>\n",
       "      <th>mean</th>\n",
       "      <th>mean</th>\n",
       "      <th>mean</th>\n",
       "      <th>mean</th>\n",
       "      <th>mean</th>\n",
       "      <th>mean</th>\n",
       "      <th>mean</th>\n",
       "      <th>mean</th>\n",
       "      <th>mean</th>\n",
       "      <th>mean</th>\n",
       "      <th>mean</th>\n",
       "    </tr>\n",
       "  </thead>\n",
       "  <tbody>\n",
       "    <tr>\n",
       "      <th>0</th>\n",
       "      <td>0</td>\n",
       "      <td>57973.546667</td>\n",
       "      <td>2634.706667</td>\n",
       "      <td>2.000000</td>\n",
       "      <td>1.000000</td>\n",
       "      <td>1.000000</td>\n",
       "      <td>15002.626667</td>\n",
       "      <td>10.026667</td>\n",
       "      <td>0.000000</td>\n",
       "      <td>0.000000</td>\n",
       "      <td>4111.026667</td>\n",
       "      <td>0.400000</td>\n",
       "    </tr>\n",
       "    <tr>\n",
       "      <th>1</th>\n",
       "      <td>1</td>\n",
       "      <td>170339.198675</td>\n",
       "      <td>2508.019868</td>\n",
       "      <td>2.278146</td>\n",
       "      <td>1.013245</td>\n",
       "      <td>1.013245</td>\n",
       "      <td>28717.337748</td>\n",
       "      <td>18.344371</td>\n",
       "      <td>2574.390728</td>\n",
       "      <td>7.768212</td>\n",
       "      <td>4478.728477</td>\n",
       "      <td>0.768212</td>\n",
       "    </tr>\n",
       "    <tr>\n",
       "      <th>2</th>\n",
       "      <td>2</td>\n",
       "      <td>0.000000</td>\n",
       "      <td>0.000000</td>\n",
       "      <td>1.000000</td>\n",
       "      <td>1.000000</td>\n",
       "      <td>1.000000</td>\n",
       "      <td>5491.000000</td>\n",
       "      <td>18.000000</td>\n",
       "      <td>2116.000000</td>\n",
       "      <td>5.000000</td>\n",
       "      <td>3204.000000</td>\n",
       "      <td>1.000000</td>\n",
       "    </tr>\n",
       "    <tr>\n",
       "      <th>3</th>\n",
       "      <td>3</td>\n",
       "      <td>55679.977711</td>\n",
       "      <td>0.000000</td>\n",
       "      <td>1.952021</td>\n",
       "      <td>1.013600</td>\n",
       "      <td>1.010578</td>\n",
       "      <td>13699.846619</td>\n",
       "      <td>9.765017</td>\n",
       "      <td>0.000000</td>\n",
       "      <td>0.000000</td>\n",
       "      <td>3992.381186</td>\n",
       "      <td>0.272006</td>\n",
       "    </tr>\n",
       "    <tr>\n",
       "      <th>4</th>\n",
       "      <td>4</td>\n",
       "      <td>103982.716192</td>\n",
       "      <td>0.000000</td>\n",
       "      <td>2.289146</td>\n",
       "      <td>1.017794</td>\n",
       "      <td>1.016904</td>\n",
       "      <td>23871.654804</td>\n",
       "      <td>15.131673</td>\n",
       "      <td>1289.069395</td>\n",
       "      <td>3.838968</td>\n",
       "      <td>4370.880783</td>\n",
       "      <td>0.546263</td>\n",
       "    </tr>\n",
       "  </tbody>\n",
       "</table>\n",
       "</div>"
      ],
      "text/plain": [
       "  cluster        Balance   Qual_miles cc1_miles cc2_miles cc3_miles  \\\n",
       "                    mean         mean      mean      mean      mean   \n",
       "0       0   57973.546667  2634.706667  2.000000  1.000000  1.000000   \n",
       "1       1  170339.198675  2508.019868  2.278146  1.013245  1.013245   \n",
       "2       2       0.000000     0.000000  1.000000  1.000000  1.000000   \n",
       "3       3   55679.977711     0.000000  1.952021  1.013600  1.010578   \n",
       "4       4  103982.716192     0.000000  2.289146  1.017794  1.016904   \n",
       "\n",
       "    Bonus_miles Bonus_trans Flight_miles_12mo Flight_trans_12  \\\n",
       "           mean        mean              mean            mean   \n",
       "0  15002.626667   10.026667          0.000000        0.000000   \n",
       "1  28717.337748   18.344371       2574.390728        7.768212   \n",
       "2   5491.000000   18.000000       2116.000000        5.000000   \n",
       "3  13699.846619    9.765017          0.000000        0.000000   \n",
       "4  23871.654804   15.131673       1289.069395        3.838968   \n",
       "\n",
       "  Days_since_enroll    Award?  \n",
       "               mean      mean  \n",
       "0       4111.026667  0.400000  \n",
       "1       4478.728477  0.768212  \n",
       "2       3204.000000  1.000000  \n",
       "3       3992.381186  0.272006  \n",
       "4       4370.880783  0.546263  "
      ]
     },
     "execution_count": 36,
     "metadata": {},
     "output_type": "execute_result"
    }
   ],
   "source": [
    "hc4 = AgglomerativeClustering(n_clusters=5, affinity = 'euclidean', linkage = 'single')\n",
    "y_hc4 = hc4.fit_predict(airlines2_transformed)\n",
    "Clusters=pd.DataFrame(y_hc4,columns=['Clusters'])\n",
    "airlines1['cluster'] = y_hc4\n",
    "airlines1.groupby('cluster').agg(['mean']).reset_index()"
   ]
  },
  {
   "cell_type": "code",
   "execution_count": 37,
   "id": "a70662a0",
   "metadata": {},
   "outputs": [
    {
     "name": "stdout",
     "output_type": "stream",
     "text": [
      "cluster 0\n",
      "Total Members: 75\n",
      "\n",
      "cluster 1\n",
      "Total Members: 151\n",
      "\n",
      "cluster 2\n",
      "Total Members: 1\n",
      "\n",
      "cluster 3\n",
      "Total Members: 2647\n",
      "\n",
      "cluster 4\n",
      "Total Members: 1124\n",
      "\n"
     ]
    }
   ],
   "source": [
    "# Viewing how many categories are included in each cluster \n",
    "for i in range(5):\n",
    "    print(\"cluster\", i)\n",
    "    print(\"Total Members:\", len(list(airlines1[airlines1['cluster'] == i].values)))\n",
    "    print()"
   ]
  },
  {
   "cell_type": "markdown",
   "id": "aff13fcc",
   "metadata": {},
   "source": [
    "## K-means clustering"
   ]
  },
  {
   "cell_type": "code",
   "execution_count": 38,
   "id": "7bcdadaf",
   "metadata": {},
   "outputs": [
    {
     "data": {
      "image/png": "[encoded data removed]",
      "text/plain": [
       "<Figure size 640x480 with 1 Axes>"
      ]
     },
     "metadata": {},
     "output_type": "display_data"
    }
   ],
   "source": [
    "# Plotting elbow curve \n",
    "wcss = []\n",
    "for i in range(1, 11):\n",
    "    kmeans = KMeans(n_clusters=i,random_state=0)\n",
    "    kmeans.fit(airlines2_transformed)\n",
    "    wcss.append(kmeans.inertia_)\n",
    "    \n",
    "plt.plot(range(1, 11), wcss,color='green')\n",
    "plt.title('Elbow Method')\n",
    "plt.xlabel('Number of clusters')\n",
    "plt.ylabel('WCSS')\n",
    "plt.show()"
   ]
  },
  {
   "cell_type": "markdown",
   "id": "7e996277",
   "metadata": {},
   "source": [
    "### Creating Kmeans with 5 clusters"
   ]
  },
  {
   "cell_type": "code",
   "execution_count": 39,
   "id": "14461f0d",
   "metadata": {},
   "outputs": [
    {
     "data": {
      "text/html": [
       "<style>#sk-container-id-1 {color: black;background-color: white;}#sk-container-id-1 pre{padding: 0;}#sk-container-id-1 div.sk-toggleable {background-color: white;}#sk-container-id-1 label.sk-toggleable__label {cursor: pointer;display: block;width: 100%;margin-bottom: 0;padding: 0.3em;box-sizing: border-box;text-align: center;}#sk-container-id-1 label.sk-toggleable__label-arrow:before {content: \"▸\";float: left;margin-right: 0.25em;color: #696969;}#sk-container-id-1 label.sk-toggleable__label-arrow:hover:before {color: black;}#sk-container-id-1 div.sk-estimator:hover label.sk-toggleable__label-arrow:before {color: black;}#sk-container-id-1 div.sk-toggleable__content {max-height: 0;max-width: 0;overflow: hidden;text-align: left;background-color: #f0f8ff;}#sk-container-id-1 div.sk-toggleable__content pre {margin: 0.2em;color: black;border-radius: 0.25em;background-color: #f0f8ff;}#sk-container-id-1 input.sk-toggleable__control:checked~div.sk-toggleable__content {max-height: 200px;max-width: 100%;overflow: auto;}#sk-container-id-1 input.sk-toggleable__control:checked~label.sk-toggleable__label-arrow:before {content: \"▾\";}#sk-container-id-1 div.sk-estimator input.sk-toggleable__control:checked~label.sk-toggleable__label {background-color: #d4ebff;}#sk-container-id-1 div.sk-label input.sk-toggleable__control:checked~label.sk-toggleable__label {background-color: #d4ebff;}#sk-container-id-1 input.sk-hidden--visually {border: 0;clip: rect(1px 1px 1px 1px);clip: rect(1px, 1px, 1px, 1px);height: 1px;margin: -1px;overflow: hidden;padding: 0;position: absolute;width: 1px;}#sk-container-id-1 div.sk-estimator {font-family: monospace;background-color: #f0f8ff;border: 1px dotted black;border-radius: 0.25em;box-sizing: border-box;margin-bottom: 0.5em;}#sk-container-id-1 div.sk-estimator:hover {background-color: #d4ebff;}#sk-container-id-1 div.sk-parallel-item::after {content: \"\";width: 100%;border-bottom: 1px solid gray;flex-grow: 1;}#sk-container-id-1 div.sk-label:hover label.sk-toggleable__label {background-color: #d4ebff;}#sk-container-id-1 div.sk-serial::before {content: \"\";position: absolute;border-left: 1px solid gray;box-sizing: border-box;top: 0;bottom: 0;left: 50%;z-index: 0;}#sk-container-id-1 div.sk-serial {display: flex;flex-direction: column;align-items: center;background-color: white;padding-right: 0.2em;padding-left: 0.2em;position: relative;}#sk-container-id-1 div.sk-item {position: relative;z-index: 1;}#sk-container-id-1 div.sk-parallel {display: flex;align-items: stretch;justify-content: center;background-color: white;position: relative;}#sk-container-id-1 div.sk-item::before, #sk-container-id-1 div.sk-parallel-item::before {content: \"\";position: absolute;border-left: 1px solid gray;box-sizing: border-box;top: 0;bottom: 0;left: 50%;z-index: -1;}#sk-container-id-1 div.sk-parallel-item {display: flex;flex-direction: column;z-index: 1;position: relative;background-color: white;}#sk-container-id-1 div.sk-parallel-item:first-child::after {align-self: flex-end;width: 50%;}#sk-container-id-1 div.sk-parallel-item:last-child::after {align-self: flex-start;width: 50%;}#sk-container-id-1 div.sk-parallel-item:only-child::after {width: 0;}#sk-container-id-1 div.sk-dashed-wrapped {border: 1px dashed gray;margin: 0 0.4em 0.5em 0.4em;box-sizing: border-box;padding-bottom: 0.4em;background-color: white;}#sk-container-id-1 div.sk-label label {font-family: monospace;font-weight: bold;display: inline-block;line-height: 1.2em;}#sk-container-id-1 div.sk-label-container {text-align: center;}#sk-container-id-1 div.sk-container {/* jupyter's `normalize.less` sets `[hidden] { display: none; }` but bootstrap.min.css set `[hidden] { display: none !important; }` so we also need the `!important` here to be able to override the default hidden behavior on the sphinx rendered scikit-learn.org. See: https://github.com/scikit-learn/scikit-learn/issues/21755 */display: inline-block !important;position: relative;}#sk-container-id-1 div.sk-text-repr-fallback {display: none;}</style><div id=\"sk-container-id-1\" class=\"sk-top-container\"><div class=\"sk-text-repr-fallback\"><pre>KMeans(n_clusters=5, random_state=42)</pre><b>In a Jupyter environment, please rerun this cell to show the HTML representation or trust the notebook. <br />On GitHub, the HTML representation is unable to render, please try loading this page with nbviewer.org.</b></div><div class=\"sk-container\" hidden><div class=\"sk-item\"><div class=\"sk-estimator sk-toggleable\"><input class=\"sk-toggleable__control sk-hidden--visually\" id=\"sk-estimator-id-1\" type=\"checkbox\" checked><label for=\"sk-estimator-id-1\" class=\"sk-toggleable__label sk-toggleable__label-arrow\">KMeans</label><div class=\"sk-toggleable__content\"><pre>KMeans(n_clusters=5, random_state=42)</pre></div></div></div></div></div>"
      ],
      "text/plain": [
       "KMeans(n_clusters=5, random_state=42)"
      ]
     },
     "execution_count": 39,
     "metadata": {},
     "output_type": "execute_result"
    }
   ],
   "source": [
    "clusters_new = KMeans(5, random_state=42)\n",
    "clusters_new.fit(airlines2_transformed)"
   ]
  },
  {
   "cell_type": "code",
   "execution_count": 40,
   "id": "cc4e04d9",
   "metadata": {},
   "outputs": [
    {
     "data": {
      "text/plain": [
       "array([[-6.75060971e-01, -2.33017024e-01, -8.35751154e-01,\n",
       "        -1.26482893e-18, -3.46944695e-18, -9.09172689e-01,\n",
       "        -8.19438300e-01, -6.82207251e-01, -6.73892667e-01,\n",
       "        -3.10652846e-01, -5.14029165e-01],\n",
       "       [ 3.71279604e-01, -2.44775743e-01,  9.10227673e-01,\n",
       "        -2.09226190e-18,  1.55963264e-19,  7.17538974e-01,\n",
       "         5.92161467e-01, -6.83431729e-01, -6.75084627e-01,\n",
       "         2.38709401e-01,  1.81354710e-01],\n",
       "       [ 1.54566080e-02, -2.44775743e-01, -8.19408935e-01,\n",
       "        -6.05488124e-21, -3.46944695e-18, -2.79741901e-01,\n",
       "        -2.72792292e-01,  1.45145141e+00,  1.43558484e+00,\n",
       "        -9.55886109e-02,  7.13394614e-02],\n",
       "       [ 7.54284474e-01, -2.44775743e-01,  1.11351640e+00,\n",
       "        -2.15974647e-18,  7.61893069e-19,  1.03656893e+00,\n",
       "         1.04589723e+00,  1.45618785e+00,  1.41023798e+00,\n",
       "         3.57999438e-01,  6.72293003e-01],\n",
       "       [ 5.95309801e-01,  4.08537213e+00,  6.25081446e-02,\n",
       "        -2.65678370e-18, -1.71909534e-18,  3.71061042e-01,\n",
       "         4.00427293e-01,  7.95568142e-01,  8.51069530e-01,\n",
       "         1.51656949e-01,  5.94760366e-01]])"
      ]
     },
     "execution_count": 40,
     "metadata": {},
     "output_type": "execute_result"
    }
   ],
   "source": [
    "KM_label=clusters_new.labels_\n",
    "airlines1['cluster'] = clusters_new.labels_\n",
    "clusters_new.cluster_centers_"
   ]
  },
  {
   "cell_type": "code",
   "execution_count": 41,
   "id": "f09df1a4",
   "metadata": {},
   "outputs": [],
   "source": [
    "A=airlines1.iloc[:,:].groupby('cluster').agg(['mean']).reset_index()"
   ]
  },
  {
   "cell_type": "code",
   "execution_count": 42,
   "id": "4751d48d",
   "metadata": {},
   "outputs": [
    {
     "data": {
      "text/html": [
       "<div>\n",
       "<style scoped>\n",
       "    .dataframe tbody tr th:only-of-type {\n",
       "        vertical-align: middle;\n",
       "    }\n",
       "\n",
       "    .dataframe tbody tr th {\n",
       "        vertical-align: top;\n",
       "    }\n",
       "\n",
       "    .dataframe thead tr th {\n",
       "        text-align: left;\n",
       "    }\n",
       "</style>\n",
       "<table border=\"1\" class=\"dataframe\">\n",
       "  <thead>\n",
       "    <tr>\n",
       "      <th></th>\n",
       "      <th>cluster</th>\n",
       "      <th>Balance</th>\n",
       "      <th>Qual_miles</th>\n",
       "      <th>cc1_miles</th>\n",
       "      <th>cc2_miles</th>\n",
       "      <th>cc3_miles</th>\n",
       "      <th>Bonus_miles</th>\n",
       "      <th>Bonus_trans</th>\n",
       "      <th>Flight_miles_12mo</th>\n",
       "      <th>Flight_trans_12</th>\n",
       "      <th>Days_since_enroll</th>\n",
       "      <th>Award?</th>\n",
       "    </tr>\n",
       "    <tr>\n",
       "      <th></th>\n",
       "      <th></th>\n",
       "      <th>mean</th>\n",
       "      <th>mean</th>\n",
       "      <th>mean</th>\n",
       "      <th>mean</th>\n",
       "      <th>mean</th>\n",
       "      <th>mean</th>\n",
       "      <th>mean</th>\n",
       "      <th>mean</th>\n",
       "      <th>mean</th>\n",
       "      <th>mean</th>\n",
       "      <th>mean</th>\n",
       "    </tr>\n",
       "  </thead>\n",
       "  <tbody>\n",
       "    <tr>\n",
       "      <th>0</th>\n",
       "      <td>0</td>\n",
       "      <td>28528.925322</td>\n",
       "      <td>8.279022</td>\n",
       "      <td>1.006789</td>\n",
       "      <td>1.015614</td>\n",
       "      <td>1.000000</td>\n",
       "      <td>2230.093007</td>\n",
       "      <td>4.682281</td>\n",
       "      <td>0.033944</td>\n",
       "      <td>0.000679</td>\n",
       "      <td>3502.894773</td>\n",
       "      <td>0.122200</td>\n",
       "    </tr>\n",
       "    <tr>\n",
       "      <th>1</th>\n",
       "      <td>1</td>\n",
       "      <td>89382.907549</td>\n",
       "      <td>0.000000</td>\n",
       "      <td>3.128923</td>\n",
       "      <td>1.011026</td>\n",
       "      <td>1.023749</td>\n",
       "      <td>27971.685327</td>\n",
       "      <td>16.074640</td>\n",
       "      <td>0.000000</td>\n",
       "      <td>0.000000</td>\n",
       "      <td>4593.606446</td>\n",
       "      <td>0.458015</td>\n",
       "    </tr>\n",
       "    <tr>\n",
       "      <th>2</th>\n",
       "      <td>2</td>\n",
       "      <td>69243.130890</td>\n",
       "      <td>0.000000</td>\n",
       "      <td>1.020942</td>\n",
       "      <td>1.026178</td>\n",
       "      <td>1.000000</td>\n",
       "      <td>5429.420593</td>\n",
       "      <td>8.059337</td>\n",
       "      <td>1211.178010</td>\n",
       "      <td>3.598604</td>\n",
       "      <td>3907.469459</td>\n",
       "      <td>0.404887</td>\n",
       "    </tr>\n",
       "    <tr>\n",
       "      <th>3</th>\n",
       "      <td>3</td>\n",
       "      <td>140109.272232</td>\n",
       "      <td>0.000000</td>\n",
       "      <td>3.607985</td>\n",
       "      <td>1.009074</td>\n",
       "      <td>1.034483</td>\n",
       "      <td>43060.114338</td>\n",
       "      <td>22.517241</td>\n",
       "      <td>1373.820327</td>\n",
       "      <td>4.096189</td>\n",
       "      <td>4849.402904</td>\n",
       "      <td>0.695100</td>\n",
       "    </tr>\n",
       "    <tr>\n",
       "      <th>4</th>\n",
       "      <td>4</td>\n",
       "      <td>135354.193694</td>\n",
       "      <td>2541.076577</td>\n",
       "      <td>2.207207</td>\n",
       "      <td>1.009009</td>\n",
       "      <td>1.009009</td>\n",
       "      <td>24601.418919</td>\n",
       "      <td>15.864865</td>\n",
       "      <td>1751.049550</td>\n",
       "      <td>5.283784</td>\n",
       "      <td>4422.950450</td>\n",
       "      <td>0.657658</td>\n",
       "    </tr>\n",
       "  </tbody>\n",
       "</table>\n",
       "</div>"
      ],
      "text/plain": [
       "  cluster        Balance   Qual_miles cc1_miles cc2_miles cc3_miles  \\\n",
       "                    mean         mean      mean      mean      mean   \n",
       "0       0   28528.925322     8.279022  1.006789  1.015614  1.000000   \n",
       "1       1   89382.907549     0.000000  3.128923  1.011026  1.023749   \n",
       "2       2   69243.130890     0.000000  1.020942  1.026178  1.000000   \n",
       "3       3  140109.272232     0.000000  3.607985  1.009074  1.034483   \n",
       "4       4  135354.193694  2541.076577  2.207207  1.009009  1.009009   \n",
       "\n",
       "    Bonus_miles Bonus_trans Flight_miles_12mo Flight_trans_12  \\\n",
       "           mean        mean              mean            mean   \n",
       "0   2230.093007    4.682281          0.033944        0.000679   \n",
       "1  27971.685327   16.074640          0.000000        0.000000   \n",
       "2   5429.420593    8.059337       1211.178010        3.598604   \n",
       "3  43060.114338   22.517241       1373.820327        4.096189   \n",
       "4  24601.418919   15.864865       1751.049550        5.283784   \n",
       "\n",
       "  Days_since_enroll    Award?  \n",
       "               mean      mean  \n",
       "0       3502.894773  0.122200  \n",
       "1       4593.606446  0.458015  \n",
       "2       3907.469459  0.404887  \n",
       "3       4849.402904  0.695100  \n",
       "4       4422.950450  0.657658  "
      ]
     },
     "execution_count": 42,
     "metadata": {},
     "output_type": "execute_result"
    }
   ],
   "source": [
    "A"
   ]
  },
  {
   "cell_type": "code",
   "execution_count": 43,
   "id": "527260e5",
   "metadata": {},
   "outputs": [
    {
     "name": "stdout",
     "output_type": "stream",
     "text": [
      "cluster 0\n",
      "Total Members: 1473\n",
      "\n",
      "cluster 1\n",
      "Total Members: 1179\n",
      "\n",
      "cluster 2\n",
      "Total Members: 573\n",
      "\n",
      "cluster 3\n",
      "Total Members: 551\n",
      "\n",
      "cluster 4\n",
      "Total Members: 222\n",
      "\n"
     ]
    }
   ],
   "source": [
    "# Viewing  number of categories in each cluster\n",
    "for i in range(5):\n",
    "    print(\"cluster\", i)\n",
    "    print(\"Total Members:\", len(list(airlines1[airlines1['cluster'] == i].values)))\n",
    "    print()"
   ]
  },
  {
   "cell_type": "markdown",
   "id": "cf921b74",
   "metadata": {},
   "source": [
    "## DBSCAN"
   ]
  },
  {
   "cell_type": "code",
   "execution_count": 44,
   "id": "a5edb704",
   "metadata": {},
   "outputs": [
    {
     "data": {
      "text/html": [
       "<style>#sk-container-id-2 {color: black;background-color: white;}#sk-container-id-2 pre{padding: 0;}#sk-container-id-2 div.sk-toggleable {background-color: white;}#sk-container-id-2 label.sk-toggleable__label {cursor: pointer;display: block;width: 100%;margin-bottom: 0;padding: 0.3em;box-sizing: border-box;text-align: center;}#sk-container-id-2 label.sk-toggleable__label-arrow:before {content: \"▸\";float: left;margin-right: 0.25em;color: #696969;}#sk-container-id-2 label.sk-toggleable__label-arrow:hover:before {color: black;}#sk-container-id-2 div.sk-estimator:hover label.sk-toggleable__label-arrow:before {color: black;}#sk-container-id-2 div.sk-toggleable__content {max-height: 0;max-width: 0;overflow: hidden;text-align: left;background-color: #f0f8ff;}#sk-container-id-2 div.sk-toggleable__content pre {margin: 0.2em;color: black;border-radius: 0.25em;background-color: #f0f8ff;}#sk-container-id-2 input.sk-toggleable__control:checked~div.sk-toggleable__content {max-height: 200px;max-width: 100%;overflow: auto;}#sk-container-id-2 input.sk-toggleable__control:checked~label.sk-toggleable__label-arrow:before {content: \"▾\";}#sk-container-id-2 div.sk-estimator input.sk-toggleable__control:checked~label.sk-toggleable__label {background-color: #d4ebff;}#sk-container-id-2 div.sk-label input.sk-toggleable__control:checked~label.sk-toggleable__label {background-color: #d4ebff;}#sk-container-id-2 input.sk-hidden--visually {border: 0;clip: rect(1px 1px 1px 1px);clip: rect(1px, 1px, 1px, 1px);height: 1px;margin: -1px;overflow: hidden;padding: 0;position: absolute;width: 1px;}#sk-container-id-2 div.sk-estimator {font-family: monospace;background-color: #f0f8ff;border: 1px dotted black;border-radius: 0.25em;box-sizing: border-box;margin-bottom: 0.5em;}#sk-container-id-2 div.sk-estimator:hover {background-color: #d4ebff;}#sk-container-id-2 div.sk-parallel-item::after {content: \"\";width: 100%;border-bottom: 1px solid gray;flex-grow: 1;}#sk-container-id-2 div.sk-label:hover label.sk-toggleable__label {background-color: #d4ebff;}#sk-container-id-2 div.sk-serial::before {content: \"\";position: absolute;border-left: 1px solid gray;box-sizing: border-box;top: 0;bottom: 0;left: 50%;z-index: 0;}#sk-container-id-2 div.sk-serial {display: flex;flex-direction: column;align-items: center;background-color: white;padding-right: 0.2em;padding-left: 0.2em;position: relative;}#sk-container-id-2 div.sk-item {position: relative;z-index: 1;}#sk-container-id-2 div.sk-parallel {display: flex;align-items: stretch;justify-content: center;background-color: white;position: relative;}#sk-container-id-2 div.sk-item::before, #sk-container-id-2 div.sk-parallel-item::before {content: \"\";position: absolute;border-left: 1px solid gray;box-sizing: border-box;top: 0;bottom: 0;left: 50%;z-index: -1;}#sk-container-id-2 div.sk-parallel-item {display: flex;flex-direction: column;z-index: 1;position: relative;background-color: white;}#sk-container-id-2 div.sk-parallel-item:first-child::after {align-self: flex-end;width: 50%;}#sk-container-id-2 div.sk-parallel-item:last-child::after {align-self: flex-start;width: 50%;}#sk-container-id-2 div.sk-parallel-item:only-child::after {width: 0;}#sk-container-id-2 div.sk-dashed-wrapped {border: 1px dashed gray;margin: 0 0.4em 0.5em 0.4em;box-sizing: border-box;padding-bottom: 0.4em;background-color: white;}#sk-container-id-2 div.sk-label label {font-family: monospace;font-weight: bold;display: inline-block;line-height: 1.2em;}#sk-container-id-2 div.sk-label-container {text-align: center;}#sk-container-id-2 div.sk-container {/* jupyter's `normalize.less` sets `[hidden] { display: none; }` but bootstrap.min.css set `[hidden] { display: none !important; }` so we also need the `!important` here to be able to override the default hidden behavior on the sphinx rendered scikit-learn.org. See: https://github.com/scikit-learn/scikit-learn/issues/21755 */display: inline-block !important;position: relative;}#sk-container-id-2 div.sk-text-repr-fallback {display: none;}</style><div id=\"sk-container-id-2\" class=\"sk-top-container\"><div class=\"sk-text-repr-fallback\"><pre>DBSCAN(eps=0.8, min_samples=6)</pre><b>In a Jupyter environment, please rerun this cell to show the HTML representation or trust the notebook. <br />On GitHub, the HTML representation is unable to render, please try loading this page with nbviewer.org.</b></div><div class=\"sk-container\" hidden><div class=\"sk-item\"><div class=\"sk-estimator sk-toggleable\"><input class=\"sk-toggleable__control sk-hidden--visually\" id=\"sk-estimator-id-2\" type=\"checkbox\" checked><label for=\"sk-estimator-id-2\" class=\"sk-toggleable__label sk-toggleable__label-arrow\">DBSCAN</label><div class=\"sk-toggleable__content\"><pre>DBSCAN(eps=0.8, min_samples=6)</pre></div></div></div></div></div>"
      ],
      "text/plain": [
       "DBSCAN(eps=0.8, min_samples=6)"
      ]
     },
     "execution_count": 44,
     "metadata": {},
     "output_type": "execute_result"
    }
   ],
   "source": [
    "from sklearn.cluster import DBSCAN\n",
    "dbscan = DBSCAN(eps=0.8, min_samples=6)\n",
    "dbscan.fit(airlines2)"
   ]
  },
  {
   "cell_type": "code",
   "execution_count": 45,
   "id": "5234abf1",
   "metadata": {},
   "outputs": [
    {
     "data": {
      "text/plain": [
       "array([0, 0, 0, ..., 4, 6, 0], dtype=int64)"
      ]
     },
     "execution_count": 45,
     "metadata": {},
     "output_type": "execute_result"
    }
   ],
   "source": [
    "dbscan.labels_"
   ]
  },
  {
   "cell_type": "code",
   "execution_count": 46,
   "id": "1902eb76",
   "metadata": {},
   "outputs": [],
   "source": [
    "cl=pd.DataFrame(dbscan.labels_,columns=['cluster_db'])"
   ]
  },
  {
   "cell_type": "code",
   "execution_count": 47,
   "id": "c806b6ba",
   "metadata": {},
   "outputs": [
    {
     "data": {
      "text/html": [
       "<div>\n",
       "<style scoped>\n",
       "    .dataframe tbody tr th:only-of-type {\n",
       "        vertical-align: middle;\n",
       "    }\n",
       "\n",
       "    .dataframe tbody tr th {\n",
       "        vertical-align: top;\n",
       "    }\n",
       "\n",
       "    .dataframe thead th {\n",
       "        text-align: right;\n",
       "    }\n",
       "</style>\n",
       "<table border=\"1\" class=\"dataframe\">\n",
       "  <thead>\n",
       "    <tr style=\"text-align: right;\">\n",
       "      <th></th>\n",
       "      <th>cluster_db</th>\n",
       "    </tr>\n",
       "  </thead>\n",
       "  <tbody>\n",
       "    <tr>\n",
       "      <th>0</th>\n",
       "      <td>0</td>\n",
       "    </tr>\n",
       "    <tr>\n",
       "      <th>1</th>\n",
       "      <td>0</td>\n",
       "    </tr>\n",
       "    <tr>\n",
       "      <th>2</th>\n",
       "      <td>0</td>\n",
       "    </tr>\n",
       "    <tr>\n",
       "      <th>3</th>\n",
       "      <td>0</td>\n",
       "    </tr>\n",
       "    <tr>\n",
       "      <th>4</th>\n",
       "      <td>1</td>\n",
       "    </tr>\n",
       "    <tr>\n",
       "      <th>...</th>\n",
       "      <td>...</td>\n",
       "    </tr>\n",
       "    <tr>\n",
       "      <th>3993</th>\n",
       "      <td>3</td>\n",
       "    </tr>\n",
       "    <tr>\n",
       "      <th>3994</th>\n",
       "      <td>5</td>\n",
       "    </tr>\n",
       "    <tr>\n",
       "      <th>3995</th>\n",
       "      <td>4</td>\n",
       "    </tr>\n",
       "    <tr>\n",
       "      <th>3996</th>\n",
       "      <td>6</td>\n",
       "    </tr>\n",
       "    <tr>\n",
       "      <th>3997</th>\n",
       "      <td>0</td>\n",
       "    </tr>\n",
       "  </tbody>\n",
       "</table>\n",
       "<p>3998 rows × 1 columns</p>\n",
       "</div>"
      ],
      "text/plain": [
       "      cluster_db\n",
       "0              0\n",
       "1              0\n",
       "2              0\n",
       "3              0\n",
       "4              1\n",
       "...          ...\n",
       "3993           3\n",
       "3994           5\n",
       "3995           4\n",
       "3996           6\n",
       "3997           0\n",
       "\n",
       "[3998 rows x 1 columns]"
      ]
     },
     "execution_count": 47,
     "metadata": {},
     "output_type": "execute_result"
    }
   ],
   "source": [
    "cl"
   ]
  },
  {
   "cell_type": "code",
   "execution_count": 48,
   "id": "7862cbe4",
   "metadata": {},
   "outputs": [],
   "source": [
    "airlines3 = pd.concat([airlines2,cl],axis=1)"
   ]
  },
  {
   "cell_type": "code",
   "execution_count": 49,
   "id": "fdee8db0",
   "metadata": {
    "scrolled": false
   },
   "outputs": [
    {
     "data": {
      "text/html": [
       "<div>\n",
       "<style scoped>\n",
       "    .dataframe tbody tr th:only-of-type {\n",
       "        vertical-align: middle;\n",
       "    }\n",
       "\n",
       "    .dataframe tbody tr th {\n",
       "        vertical-align: top;\n",
       "    }\n",
       "\n",
       "    .dataframe thead th {\n",
       "        text-align: right;\n",
       "    }\n",
       "</style>\n",
       "<table border=\"1\" class=\"dataframe\">\n",
       "  <thead>\n",
       "    <tr style=\"text-align: right;\">\n",
       "      <th></th>\n",
       "      <th>Balance</th>\n",
       "      <th>Qual_miles</th>\n",
       "      <th>cc1_miles</th>\n",
       "      <th>cc2_miles</th>\n",
       "      <th>cc3_miles</th>\n",
       "      <th>Bonus_miles</th>\n",
       "      <th>Bonus_trans</th>\n",
       "      <th>Flight_miles_12mo</th>\n",
       "      <th>Flight_trans_12</th>\n",
       "      <th>Days_since_enroll</th>\n",
       "      <th>Award?</th>\n",
       "      <th>cluster_db</th>\n",
       "    </tr>\n",
       "  </thead>\n",
       "  <tbody>\n",
       "    <tr>\n",
       "      <th>0</th>\n",
       "      <td>-0.347411</td>\n",
       "      <td>-0.244776</td>\n",
       "      <td>-0.844931</td>\n",
       "      <td>-3.469447e-18</td>\n",
       "      <td>-3.469447e-18</td>\n",
       "      <td>-1.179241</td>\n",
       "      <td>-1.330354</td>\n",
       "      <td>-0.683432</td>\n",
       "      <td>-0.675085</td>\n",
       "      <td>1.321671</td>\n",
       "      <td>-0.767072</td>\n",
       "      <td>0</td>\n",
       "    </tr>\n",
       "    <tr>\n",
       "      <th>1</th>\n",
       "      <td>-0.633887</td>\n",
       "      <td>-0.244776</td>\n",
       "      <td>-0.844931</td>\n",
       "      <td>-3.469447e-18</td>\n",
       "      <td>-3.469447e-18</td>\n",
       "      <td>-1.133253</td>\n",
       "      <td>-1.075642</td>\n",
       "      <td>-0.683432</td>\n",
       "      <td>-0.675085</td>\n",
       "      <td>1.308763</td>\n",
       "      <td>-0.767072</td>\n",
       "      <td>0</td>\n",
       "    </tr>\n",
       "    <tr>\n",
       "      <th>2</th>\n",
       "      <td>-0.038958</td>\n",
       "      <td>-0.244776</td>\n",
       "      <td>-0.844931</td>\n",
       "      <td>-3.469447e-18</td>\n",
       "      <td>-3.469447e-18</td>\n",
       "      <td>-0.192576</td>\n",
       "      <td>-0.689469</td>\n",
       "      <td>-0.683432</td>\n",
       "      <td>-0.675085</td>\n",
       "      <td>1.335368</td>\n",
       "      <td>-0.767072</td>\n",
       "      <td>0</td>\n",
       "    </tr>\n",
       "    <tr>\n",
       "      <th>3</th>\n",
       "      <td>-0.822951</td>\n",
       "      <td>-0.244776</td>\n",
       "      <td>-0.844931</td>\n",
       "      <td>-3.469447e-18</td>\n",
       "      <td>-3.469447e-18</td>\n",
       "      <td>-0.925760</td>\n",
       "      <td>-1.330354</td>\n",
       "      <td>-0.683432</td>\n",
       "      <td>-0.675085</td>\n",
       "      <td>1.302303</td>\n",
       "      <td>-0.767072</td>\n",
       "      <td>0</td>\n",
       "    </tr>\n",
       "    <tr>\n",
       "      <th>4</th>\n",
       "      <td>0.723491</td>\n",
       "      <td>-0.244776</td>\n",
       "      <td>1.342966</td>\n",
       "      <td>-3.469447e-18</td>\n",
       "      <td>-3.469447e-18</td>\n",
       "      <td>1.169335</td>\n",
       "      <td>1.329679</td>\n",
       "      <td>1.548815</td>\n",
       "      <td>1.685713</td>\n",
       "      <td>1.295435</td>\n",
       "      <td>1.303659</td>\n",
       "      <td>1</td>\n",
       "    </tr>\n",
       "    <tr>\n",
       "      <th>...</th>\n",
       "      <td>...</td>\n",
       "      <td>...</td>\n",
       "      <td>...</td>\n",
       "      <td>...</td>\n",
       "      <td>...</td>\n",
       "      <td>...</td>\n",
       "      <td>...</td>\n",
       "      <td>...</td>\n",
       "      <td>...</td>\n",
       "      <td>...</td>\n",
       "      <td>...</td>\n",
       "      <td>...</td>\n",
       "    </tr>\n",
       "    <tr>\n",
       "      <th>3993</th>\n",
       "      <td>-0.663558</td>\n",
       "      <td>-0.244776</td>\n",
       "      <td>-0.844931</td>\n",
       "      <td>-3.469447e-18</td>\n",
       "      <td>-3.469447e-18</td>\n",
       "      <td>0.153302</td>\n",
       "      <td>-0.689469</td>\n",
       "      <td>1.346623</td>\n",
       "      <td>1.080672</td>\n",
       "      <td>-1.365067</td>\n",
       "      <td>1.303659</td>\n",
       "      <td>3</td>\n",
       "    </tr>\n",
       "    <tr>\n",
       "      <th>3994</th>\n",
       "      <td>0.340255</td>\n",
       "      <td>-0.244776</td>\n",
       "      <td>-0.844931</td>\n",
       "      <td>-3.469447e-18</td>\n",
       "      <td>-3.469447e-18</td>\n",
       "      <td>-0.728666</td>\n",
       "      <td>-0.531236</td>\n",
       "      <td>-0.683432</td>\n",
       "      <td>-0.675085</td>\n",
       "      <td>-1.370127</td>\n",
       "      <td>1.303659</td>\n",
       "      <td>5</td>\n",
       "    </tr>\n",
       "    <tr>\n",
       "      <th>3995</th>\n",
       "      <td>0.460202</td>\n",
       "      <td>-0.244776</td>\n",
       "      <td>1.058245</td>\n",
       "      <td>-3.469447e-18</td>\n",
       "      <td>-3.469447e-18</td>\n",
       "      <td>0.794855</td>\n",
       "      <td>-0.134776</td>\n",
       "      <td>-0.683432</td>\n",
       "      <td>-0.675085</td>\n",
       "      <td>-1.365699</td>\n",
       "      <td>1.303659</td>\n",
       "      <td>4</td>\n",
       "    </tr>\n",
       "    <tr>\n",
       "      <th>3996</th>\n",
       "      <td>0.200614</td>\n",
       "      <td>-0.244776</td>\n",
       "      <td>-0.844931</td>\n",
       "      <td>-3.469447e-18</td>\n",
       "      <td>-3.469447e-18</td>\n",
       "      <td>-0.925760</td>\n",
       "      <td>-1.330354</td>\n",
       "      <td>1.446163</td>\n",
       "      <td>1.080672</td>\n",
       "      <td>-1.366331</td>\n",
       "      <td>-0.767072</td>\n",
       "      <td>6</td>\n",
       "    </tr>\n",
       "    <tr>\n",
       "      <th>3997</th>\n",
       "      <td>-1.805387</td>\n",
       "      <td>-0.244776</td>\n",
       "      <td>-0.844931</td>\n",
       "      <td>-3.469447e-18</td>\n",
       "      <td>-3.469447e-18</td>\n",
       "      <td>-1.826995</td>\n",
       "      <td>-1.680118</td>\n",
       "      <td>-0.683432</td>\n",
       "      <td>-0.675085</td>\n",
       "      <td>-1.368229</td>\n",
       "      <td>-0.767072</td>\n",
       "      <td>0</td>\n",
       "    </tr>\n",
       "  </tbody>\n",
       "</table>\n",
       "<p>3998 rows × 12 columns</p>\n",
       "</div>"
      ],
      "text/plain": [
       "       Balance  Qual_miles  cc1_miles     cc2_miles     cc3_miles  \\\n",
       "0    -0.347411   -0.244776  -0.844931 -3.469447e-18 -3.469447e-18   \n",
       "1    -0.633887   -0.244776  -0.844931 -3.469447e-18 -3.469447e-18   \n",
       "2    -0.038958   -0.244776  -0.844931 -3.469447e-18 -3.469447e-18   \n",
       "3    -0.822951   -0.244776  -0.844931 -3.469447e-18 -3.469447e-18   \n",
       "4     0.723491   -0.244776   1.342966 -3.469447e-18 -3.469447e-18   \n",
       "...        ...         ...        ...           ...           ...   \n",
       "3993 -0.663558   -0.244776  -0.844931 -3.469447e-18 -3.469447e-18   \n",
       "3994  0.340255   -0.244776  -0.844931 -3.469447e-18 -3.469447e-18   \n",
       "3995  0.460202   -0.244776   1.058245 -3.469447e-18 -3.469447e-18   \n",
       "3996  0.200614   -0.244776  -0.844931 -3.469447e-18 -3.469447e-18   \n",
       "3997 -1.805387   -0.244776  -0.844931 -3.469447e-18 -3.469447e-18   \n",
       "\n",
       "      Bonus_miles  Bonus_trans  Flight_miles_12mo  Flight_trans_12  \\\n",
       "0       -1.179241    -1.330354          -0.683432        -0.675085   \n",
       "1       -1.133253    -1.075642          -0.683432        -0.675085   \n",
       "2       -0.192576    -0.689469          -0.683432        -0.675085   \n",
       "3       -0.925760    -1.330354          -0.683432        -0.675085   \n",
       "4        1.169335     1.329679           1.548815         1.685713   \n",
       "...           ...          ...                ...              ...   \n",
       "3993     0.153302    -0.689469           1.346623         1.080672   \n",
       "3994    -0.728666    -0.531236          -0.683432        -0.675085   \n",
       "3995     0.794855    -0.134776          -0.683432        -0.675085   \n",
       "3996    -0.925760    -1.330354           1.446163         1.080672   \n",
       "3997    -1.826995    -1.680118          -0.683432        -0.675085   \n",
       "\n",
       "      Days_since_enroll    Award?  cluster_db  \n",
       "0              1.321671 -0.767072           0  \n",
       "1              1.308763 -0.767072           0  \n",
       "2              1.335368 -0.767072           0  \n",
       "3              1.302303 -0.767072           0  \n",
       "4              1.295435  1.303659           1  \n",
       "...                 ...       ...         ...  \n",
       "3993          -1.365067  1.303659           3  \n",
       "3994          -1.370127  1.303659           5  \n",
       "3995          -1.365699  1.303659           4  \n",
       "3996          -1.366331 -0.767072           6  \n",
       "3997          -1.368229 -0.767072           0  \n",
       "\n",
       "[3998 rows x 12 columns]"
      ]
     },
     "execution_count": 49,
     "metadata": {},
     "output_type": "execute_result"
    }
   ],
   "source": [
    "airlines3"
   ]
  },
  {
   "cell_type": "code",
   "execution_count": 50,
   "id": "6d4e1867",
   "metadata": {},
   "outputs": [
    {
     "data": {
      "text/plain": [
       "Balance              0\n",
       "Qual_miles           0\n",
       "cc1_miles            0\n",
       "cc2_miles            0\n",
       "cc3_miles            0\n",
       "Bonus_miles          0\n",
       "Bonus_trans          0\n",
       "Flight_miles_12mo    0\n",
       "Flight_trans_12      0\n",
       "Days_since_enroll    0\n",
       "Award?               0\n",
       "cluster_db           0\n",
       "dtype: int64"
      ]
     },
     "execution_count": 50,
     "metadata": {},
     "output_type": "execute_result"
    }
   ],
   "source": [
    "airlines3.isnull().sum()"
   ]
  },
  {
   "cell_type": "code",
   "execution_count": 51,
   "id": "134dee34",
   "metadata": {},
   "outputs": [
    {
     "name": "stdout",
     "output_type": "stream",
     "text": [
      "<class 'pandas.core.frame.DataFrame'>\n",
      "RangeIndex: 3998 entries, 0 to 3997\n",
      "Data columns (total 12 columns):\n",
      " #   Column             Non-Null Count  Dtype  \n",
      "---  ------             --------------  -----  \n",
      " 0   Balance            3998 non-null   float64\n",
      " 1   Qual_miles         3998 non-null   float64\n",
      " 2   cc1_miles          3998 non-null   float64\n",
      " 3   cc2_miles          3998 non-null   float64\n",
      " 4   cc3_miles          3998 non-null   float64\n",
      " 5   Bonus_miles        3998 non-null   float64\n",
      " 6   Bonus_trans        3998 non-null   float64\n",
      " 7   Flight_miles_12mo  3998 non-null   float64\n",
      " 8   Flight_trans_12    3998 non-null   float64\n",
      " 9   Days_since_enroll  3998 non-null   float64\n",
      " 10  Award?             3998 non-null   float64\n",
      " 11  cluster_db         3998 non-null   int64  \n",
      "dtypes: float64(11), int64(1)\n",
      "memory usage: 374.9 KB\n"
     ]
    }
   ],
   "source": [
    "airlines3.info()"
   ]
  },
  {
   "cell_type": "code",
   "execution_count": 52,
   "id": "2a40357f",
   "metadata": {},
   "outputs": [
    {
     "data": {
      "text/html": [
       "<div>\n",
       "<style scoped>\n",
       "    .dataframe tbody tr th:only-of-type {\n",
       "        vertical-align: middle;\n",
       "    }\n",
       "\n",
       "    .dataframe tbody tr th {\n",
       "        vertical-align: top;\n",
       "    }\n",
       "\n",
       "    .dataframe thead th {\n",
       "        text-align: right;\n",
       "    }\n",
       "</style>\n",
       "<table border=\"1\" class=\"dataframe\">\n",
       "  <thead>\n",
       "    <tr style=\"text-align: right;\">\n",
       "      <th></th>\n",
       "      <th>Balance</th>\n",
       "      <th>Qual_miles</th>\n",
       "      <th>cc1_miles</th>\n",
       "      <th>cc2_miles</th>\n",
       "      <th>cc3_miles</th>\n",
       "      <th>Bonus_miles</th>\n",
       "      <th>Bonus_trans</th>\n",
       "      <th>Flight_miles_12mo</th>\n",
       "      <th>Flight_trans_12</th>\n",
       "      <th>Days_since_enroll</th>\n",
       "      <th>Award?</th>\n",
       "      <th>cluster</th>\n",
       "    </tr>\n",
       "  </thead>\n",
       "  <tbody>\n",
       "    <tr>\n",
       "      <th>0</th>\n",
       "      <td>28143</td>\n",
       "      <td>0</td>\n",
       "      <td>1</td>\n",
       "      <td>1</td>\n",
       "      <td>1</td>\n",
       "      <td>174</td>\n",
       "      <td>1</td>\n",
       "      <td>0</td>\n",
       "      <td>0</td>\n",
       "      <td>7000</td>\n",
       "      <td>0</td>\n",
       "      <td>0</td>\n",
       "    </tr>\n",
       "    <tr>\n",
       "      <th>1</th>\n",
       "      <td>19244</td>\n",
       "      <td>0</td>\n",
       "      <td>1</td>\n",
       "      <td>1</td>\n",
       "      <td>1</td>\n",
       "      <td>215</td>\n",
       "      <td>2</td>\n",
       "      <td>0</td>\n",
       "      <td>0</td>\n",
       "      <td>6968</td>\n",
       "      <td>0</td>\n",
       "      <td>0</td>\n",
       "    </tr>\n",
       "    <tr>\n",
       "      <th>2</th>\n",
       "      <td>41354</td>\n",
       "      <td>0</td>\n",
       "      <td>1</td>\n",
       "      <td>1</td>\n",
       "      <td>1</td>\n",
       "      <td>4123</td>\n",
       "      <td>4</td>\n",
       "      <td>0</td>\n",
       "      <td>0</td>\n",
       "      <td>7034</td>\n",
       "      <td>0</td>\n",
       "      <td>0</td>\n",
       "    </tr>\n",
       "    <tr>\n",
       "      <th>3</th>\n",
       "      <td>14776</td>\n",
       "      <td>0</td>\n",
       "      <td>1</td>\n",
       "      <td>1</td>\n",
       "      <td>1</td>\n",
       "      <td>500</td>\n",
       "      <td>1</td>\n",
       "      <td>0</td>\n",
       "      <td>0</td>\n",
       "      <td>6952</td>\n",
       "      <td>0</td>\n",
       "      <td>0</td>\n",
       "    </tr>\n",
       "    <tr>\n",
       "      <th>4</th>\n",
       "      <td>97752</td>\n",
       "      <td>0</td>\n",
       "      <td>4</td>\n",
       "      <td>1</td>\n",
       "      <td>1</td>\n",
       "      <td>43300</td>\n",
       "      <td>26</td>\n",
       "      <td>2077</td>\n",
       "      <td>4</td>\n",
       "      <td>6935</td>\n",
       "      <td>1</td>\n",
       "      <td>3</td>\n",
       "    </tr>\n",
       "    <tr>\n",
       "      <th>...</th>\n",
       "      <td>...</td>\n",
       "      <td>...</td>\n",
       "      <td>...</td>\n",
       "      <td>...</td>\n",
       "      <td>...</td>\n",
       "      <td>...</td>\n",
       "      <td>...</td>\n",
       "      <td>...</td>\n",
       "      <td>...</td>\n",
       "      <td>...</td>\n",
       "      <td>...</td>\n",
       "      <td>...</td>\n",
       "    </tr>\n",
       "    <tr>\n",
       "      <th>3994</th>\n",
       "      <td>18476</td>\n",
       "      <td>0</td>\n",
       "      <td>1</td>\n",
       "      <td>1</td>\n",
       "      <td>1</td>\n",
       "      <td>8525</td>\n",
       "      <td>4</td>\n",
       "      <td>200</td>\n",
       "      <td>1</td>\n",
       "      <td>1403</td>\n",
       "      <td>1</td>\n",
       "      <td>2</td>\n",
       "    </tr>\n",
       "    <tr>\n",
       "      <th>3995</th>\n",
       "      <td>64385</td>\n",
       "      <td>0</td>\n",
       "      <td>1</td>\n",
       "      <td>1</td>\n",
       "      <td>1</td>\n",
       "      <td>981</td>\n",
       "      <td>5</td>\n",
       "      <td>0</td>\n",
       "      <td>0</td>\n",
       "      <td>1395</td>\n",
       "      <td>1</td>\n",
       "      <td>0</td>\n",
       "    </tr>\n",
       "    <tr>\n",
       "      <th>3996</th>\n",
       "      <td>73597</td>\n",
       "      <td>0</td>\n",
       "      <td>3</td>\n",
       "      <td>1</td>\n",
       "      <td>1</td>\n",
       "      <td>25447</td>\n",
       "      <td>8</td>\n",
       "      <td>0</td>\n",
       "      <td>0</td>\n",
       "      <td>1402</td>\n",
       "      <td>1</td>\n",
       "      <td>1</td>\n",
       "    </tr>\n",
       "    <tr>\n",
       "      <th>3997</th>\n",
       "      <td>54899</td>\n",
       "      <td>0</td>\n",
       "      <td>1</td>\n",
       "      <td>1</td>\n",
       "      <td>1</td>\n",
       "      <td>500</td>\n",
       "      <td>1</td>\n",
       "      <td>500</td>\n",
       "      <td>1</td>\n",
       "      <td>1401</td>\n",
       "      <td>0</td>\n",
       "      <td>2</td>\n",
       "    </tr>\n",
       "    <tr>\n",
       "      <th>3998</th>\n",
       "      <td>3016</td>\n",
       "      <td>0</td>\n",
       "      <td>1</td>\n",
       "      <td>1</td>\n",
       "      <td>1</td>\n",
       "      <td>0</td>\n",
       "      <td>0</td>\n",
       "      <td>0</td>\n",
       "      <td>0</td>\n",
       "      <td>1398</td>\n",
       "      <td>0</td>\n",
       "      <td>0</td>\n",
       "    </tr>\n",
       "  </tbody>\n",
       "</table>\n",
       "<p>3998 rows × 12 columns</p>\n",
       "</div>"
      ],
      "text/plain": [
       "      Balance  Qual_miles  cc1_miles  cc2_miles  cc3_miles  Bonus_miles  \\\n",
       "0       28143           0          1          1          1          174   \n",
       "1       19244           0          1          1          1          215   \n",
       "2       41354           0          1          1          1         4123   \n",
       "3       14776           0          1          1          1          500   \n",
       "4       97752           0          4          1          1        43300   \n",
       "...       ...         ...        ...        ...        ...          ...   \n",
       "3994    18476           0          1          1          1         8525   \n",
       "3995    64385           0          1          1          1          981   \n",
       "3996    73597           0          3          1          1        25447   \n",
       "3997    54899           0          1          1          1          500   \n",
       "3998     3016           0          1          1          1            0   \n",
       "\n",
       "      Bonus_trans  Flight_miles_12mo  Flight_trans_12  Days_since_enroll  \\\n",
       "0               1                  0                0               7000   \n",
       "1               2                  0                0               6968   \n",
       "2               4                  0                0               7034   \n",
       "3               1                  0                0               6952   \n",
       "4              26               2077                4               6935   \n",
       "...           ...                ...              ...                ...   \n",
       "3994            4                200                1               1403   \n",
       "3995            5                  0                0               1395   \n",
       "3996            8                  0                0               1402   \n",
       "3997            1                500                1               1401   \n",
       "3998            0                  0                0               1398   \n",
       "\n",
       "      Award?  cluster  \n",
       "0          0        0  \n",
       "1          0        0  \n",
       "2          0        0  \n",
       "3          0        0  \n",
       "4          1        3  \n",
       "...      ...      ...  \n",
       "3994       1        2  \n",
       "3995       1        0  \n",
       "3996       1        1  \n",
       "3997       0        2  \n",
       "3998       0        0  \n",
       "\n",
       "[3998 rows x 12 columns]"
      ]
     },
     "execution_count": 52,
     "metadata": {},
     "output_type": "execute_result"
    }
   ],
   "source": [
    "airlines1"
   ]
  },
  {
   "cell_type": "markdown",
   "id": "d46e4055",
   "metadata": {},
   "source": [
    "### Silhouette score"
   ]
  },
  {
   "cell_type": "code",
   "execution_count": 53,
   "id": "e0be29b5",
   "metadata": {},
   "outputs": [
    {
     "data": {
      "text/plain": [
       "0.24528722534996955"
      ]
     },
     "execution_count": 53,
     "metadata": {},
     "output_type": "execute_result"
    }
   ],
   "source": [
    "s1=(metrics.silhouette_score(airlines2_transformed,y_hc1))\n",
    "s1"
   ]
  },
  {
   "cell_type": "code",
   "execution_count": 54,
   "id": "19319b45",
   "metadata": {},
   "outputs": [
    {
     "data": {
      "text/plain": [
       "0.3239757195125234"
      ]
     },
     "execution_count": 54,
     "metadata": {},
     "output_type": "execute_result"
    }
   ],
   "source": [
    "s2=(metrics.silhouette_score(airlines2_transformed,y_hc2))\n",
    "s2"
   ]
  },
  {
   "cell_type": "code",
   "execution_count": 55,
   "id": "4acf9523",
   "metadata": {},
   "outputs": [
    {
     "data": {
      "text/plain": [
       "0.19982199632511105"
      ]
     },
     "execution_count": 55,
     "metadata": {},
     "output_type": "execute_result"
    }
   ],
   "source": [
    "s3=(metrics.silhouette_score(airlines2_transformed,y_hc3))\n",
    "s3"
   ]
  },
  {
   "cell_type": "code",
   "execution_count": 56,
   "id": "433868de",
   "metadata": {},
   "outputs": [
    {
     "data": {
      "text/plain": [
       "0.29715221403443104"
      ]
     },
     "execution_count": 56,
     "metadata": {},
     "output_type": "execute_result"
    }
   ],
   "source": [
    "s4=(metrics.silhouette_score(airlines2_transformed,y_hc4))\n",
    "s4"
   ]
  },
  {
   "cell_type": "code",
   "execution_count": 57,
   "id": "d0120e3d",
   "metadata": {},
   "outputs": [
    {
     "data": {
      "text/plain": [
       "0.3251051171827142"
      ]
     },
     "execution_count": 57,
     "metadata": {},
     "output_type": "execute_result"
    }
   ],
   "source": [
    "s5=(metrics.silhouette_score(airlines2_transformed,clusters_new.labels_))\n",
    "s5"
   ]
  },
  {
   "cell_type": "code",
   "execution_count": 58,
   "id": "bce288c5",
   "metadata": {},
   "outputs": [
    {
     "data": {
      "text/plain": [
       "0.2338945347527742"
      ]
     },
     "execution_count": 58,
     "metadata": {},
     "output_type": "execute_result"
    }
   ],
   "source": [
    "s6=(metrics.silhouette_score(airlines2_transformed,airlines3.cluster_db))\n",
    "s6"
   ]
  },
  {
   "cell_type": "markdown",
   "id": "c6bd47c8",
   "metadata": {},
   "source": [
    "### Tabling using the models"
   ]
  },
  {
   "cell_type": "code",
   "execution_count": 59,
   "id": "1e2dfb1f",
   "metadata": {},
   "outputs": [
    {
     "data": {
      "text/html": [
       "<div>\n",
       "<style scoped>\n",
       "    .dataframe tbody tr th:only-of-type {\n",
       "        vertical-align: middle;\n",
       "    }\n",
       "\n",
       "    .dataframe tbody tr th {\n",
       "        vertical-align: top;\n",
       "    }\n",
       "\n",
       "    .dataframe thead th {\n",
       "        text-align: right;\n",
       "    }\n",
       "</style>\n",
       "<table border=\"1\" class=\"dataframe\">\n",
       "  <thead>\n",
       "    <tr style=\"text-align: right;\">\n",
       "      <th></th>\n",
       "      <th>Model</th>\n",
       "      <th>Sillhouette score</th>\n",
       "    </tr>\n",
       "  </thead>\n",
       "  <tbody>\n",
       "    <tr>\n",
       "      <th>0</th>\n",
       "      <td>Average</td>\n",
       "      <td>0.245287</td>\n",
       "    </tr>\n",
       "    <tr>\n",
       "      <th>1</th>\n",
       "      <td>Centrod</td>\n",
       "      <td>0.323976</td>\n",
       "    </tr>\n",
       "    <tr>\n",
       "      <th>2</th>\n",
       "      <td>Complete</td>\n",
       "      <td>0.199822</td>\n",
       "    </tr>\n",
       "    <tr>\n",
       "      <th>3</th>\n",
       "      <td>Single</td>\n",
       "      <td>0.297152</td>\n",
       "    </tr>\n",
       "    <tr>\n",
       "      <th>4</th>\n",
       "      <td>Kmeans</td>\n",
       "      <td>0.325105</td>\n",
       "    </tr>\n",
       "    <tr>\n",
       "      <th>5</th>\n",
       "      <td>DBScan</td>\n",
       "      <td>0.233895</td>\n",
       "    </tr>\n",
       "  </tbody>\n",
       "</table>\n",
       "</div>"
      ],
      "text/plain": [
       "      Model  Sillhouette score\n",
       "0   Average           0.245287\n",
       "1   Centrod           0.323976\n",
       "2  Complete           0.199822\n",
       "3    Single           0.297152\n",
       "4    Kmeans           0.325105\n",
       "5    DBScan           0.233895"
      ]
     },
     "execution_count": 59,
     "metadata": {},
     "output_type": "execute_result"
    }
   ],
   "source": [
    "t={'Model':['Average','Centrod','Complete','Single','Kmeans','DBScan'],\n",
    "  'Sillhouette score':[s1,s2,s3,s4,s5,s6]\n",
    "  }\n",
    "t=pd.DataFrame(t)\n",
    "t"
   ]
  },
  {
   "cell_type": "markdown",
   "id": "3af51c3d",
   "metadata": {},
   "source": [
    "## Conclusion :"
   ]
  },
  {
   "cell_type": "markdown",
   "id": "8b9a9311",
   "metadata": {},
   "source": [
    "### Based on the silhoutte score it is evident that centroid linkage method and kmeans clustering gives the high value.Hierarchical cluster is way more complex to understand, in which centroid linkage gives a better result its silhouette score is similar to kmeans clustering. In heirarchical clustering, the other linkage methods have a biased clustering, showing that 70% data is belongs to only one cluster. So we predict the result only with kmeans clustering.Using 5 clusters give better result ."
   ]
  },
  {
   "cell_type": "markdown",
   "id": "99edfb06",
   "metadata": {},
   "source": [
    " "
   ]
  }
 ],
 "metadata": {
  "kernelspec": {
   "display_name": "Python 3 (ipykernel)",
   "language": "python",
   "name": "python3"
  },
  "language_info": {
   "codemirror_mode": {
    "name": "ipython",
    "version": 3
   },
   "file_extension": ".py",
   "mimetype": "text/x-python",
   "name": "python",
   "nbconvert_exporter": "python",
   "pygments_lexer": "ipython3",
   "version": "3.10.9"
  }
 },
 "nbformat": 4,
 "nbformat_minor": 5
}
